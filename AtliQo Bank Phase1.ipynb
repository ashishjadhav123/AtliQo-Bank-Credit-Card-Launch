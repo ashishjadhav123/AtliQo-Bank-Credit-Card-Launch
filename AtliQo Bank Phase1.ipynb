{
 "cells": [
  {
   "cell_type": "markdown",
   "id": "140dda9f",
   "metadata": {},
   "source": [
    "<h1 align=\"center\">AtliQo Bank Credit Card Launch: Phase 1</h1>"
   ]
  },
  {
   "cell_type": "code",
   "execution_count": 2,
   "id": "df613aad",
   "metadata": {},
   "outputs": [],
   "source": [
    "import pandas as pd\n",
    "import numpy as np\n",
    "from matplotlib import pyplot as plt\n",
    "import seaborn as sns\n",
    "import warnings\n",
    "warnings.filterwarnings(\"ignore\")\n",
    "\n",
    "from sqlalchemy import create_engine\n"
   ]
  },
  {
   "cell_type": "markdown",
   "id": "db888b69",
   "metadata": {},
   "source": [
    "<h2 align=\"center\"> Import data from Input files <h2>"
   ]
  },
  {
   "cell_type": "code",
   "execution_count": 3,
   "id": "27ce40a1",
   "metadata": {},
   "outputs": [
    {
     "data": {
      "text/html": [
       "<div>\n",
       "<style scoped>\n",
       "    .dataframe tbody tr th:only-of-type {\n",
       "        vertical-align: middle;\n",
       "    }\n",
       "\n",
       "    .dataframe tbody tr th {\n",
       "        vertical-align: top;\n",
       "    }\n",
       "\n",
       "    .dataframe thead th {\n",
       "        text-align: right;\n",
       "    }\n",
       "</style>\n",
       "<table border=\"1\" class=\"dataframe\">\n",
       "  <thead>\n",
       "    <tr style=\"text-align: right;\">\n",
       "      <th></th>\n",
       "      <th>cust_id</th>\n",
       "      <th>name</th>\n",
       "      <th>gender</th>\n",
       "      <th>age</th>\n",
       "      <th>location</th>\n",
       "      <th>occupation</th>\n",
       "      <th>annual_income</th>\n",
       "      <th>marital_status</th>\n",
       "    </tr>\n",
       "  </thead>\n",
       "  <tbody>\n",
       "    <tr>\n",
       "      <th>0</th>\n",
       "      <td>1</td>\n",
       "      <td>Manya Acharya</td>\n",
       "      <td>Female</td>\n",
       "      <td>2</td>\n",
       "      <td>City</td>\n",
       "      <td>Business Owner</td>\n",
       "      <td>358211.0</td>\n",
       "      <td>Married</td>\n",
       "    </tr>\n",
       "    <tr>\n",
       "      <th>1</th>\n",
       "      <td>2</td>\n",
       "      <td>Anjali Pandey</td>\n",
       "      <td>Female</td>\n",
       "      <td>47</td>\n",
       "      <td>City</td>\n",
       "      <td>Consultant</td>\n",
       "      <td>65172.0</td>\n",
       "      <td>Single</td>\n",
       "    </tr>\n",
       "    <tr>\n",
       "      <th>2</th>\n",
       "      <td>3</td>\n",
       "      <td>Aaryan Chauhan</td>\n",
       "      <td>Male</td>\n",
       "      <td>21</td>\n",
       "      <td>City</td>\n",
       "      <td>Freelancer</td>\n",
       "      <td>22378.0</td>\n",
       "      <td>Married</td>\n",
       "    </tr>\n",
       "    <tr>\n",
       "      <th>3</th>\n",
       "      <td>4</td>\n",
       "      <td>Rudra Bali</td>\n",
       "      <td>Male</td>\n",
       "      <td>24</td>\n",
       "      <td>Rural</td>\n",
       "      <td>Freelancer</td>\n",
       "      <td>33563.0</td>\n",
       "      <td>Married</td>\n",
       "    </tr>\n",
       "    <tr>\n",
       "      <th>4</th>\n",
       "      <td>5</td>\n",
       "      <td>Advait Malik</td>\n",
       "      <td>Male</td>\n",
       "      <td>48</td>\n",
       "      <td>City</td>\n",
       "      <td>Consultant</td>\n",
       "      <td>39406.0</td>\n",
       "      <td>Married</td>\n",
       "    </tr>\n",
       "  </tbody>\n",
       "</table>\n",
       "</div>"
      ],
      "text/plain": [
       "   cust_id            name  gender  age location      occupation  \\\n",
       "0        1   Manya Acharya  Female    2     City  Business Owner   \n",
       "1        2   Anjali Pandey  Female   47     City      Consultant   \n",
       "2        3  Aaryan Chauhan    Male   21     City      Freelancer   \n",
       "3        4      Rudra Bali    Male   24    Rural      Freelancer   \n",
       "4        5    Advait Malik    Male   48     City      Consultant   \n",
       "\n",
       "   annual_income marital_status  \n",
       "0       358211.0        Married  \n",
       "1        65172.0         Single  \n",
       "2        22378.0        Married  \n",
       "3        33563.0        Married  \n",
       "4        39406.0        Married  "
      ]
     },
     "execution_count": 3,
     "metadata": {},
     "output_type": "execute_result"
    }
   ],
   "source": [
    "df_customer = pd.read_csv(r\"D:\\Ashish\\Data Science\\AtliQo-Bank-Credit-Card-Launch\\Input\\customers.csv\")\n",
    "df_customer.head()"
   ]
  },
  {
   "cell_type": "code",
   "execution_count": 4,
   "id": "2e0e2379",
   "metadata": {},
   "outputs": [
    {
     "data": {
      "text/html": [
       "<div>\n",
       "<style scoped>\n",
       "    .dataframe tbody tr th:only-of-type {\n",
       "        vertical-align: middle;\n",
       "    }\n",
       "\n",
       "    .dataframe tbody tr th {\n",
       "        vertical-align: top;\n",
       "    }\n",
       "\n",
       "    .dataframe thead th {\n",
       "        text-align: right;\n",
       "    }\n",
       "</style>\n",
       "<table border=\"1\" class=\"dataframe\">\n",
       "  <thead>\n",
       "    <tr style=\"text-align: right;\">\n",
       "      <th></th>\n",
       "      <th>tran_id</th>\n",
       "      <th>cust_id</th>\n",
       "      <th>tran_date</th>\n",
       "      <th>tran_amount</th>\n",
       "      <th>platform</th>\n",
       "      <th>product_category</th>\n",
       "      <th>payment_type</th>\n",
       "    </tr>\n",
       "  </thead>\n",
       "  <tbody>\n",
       "    <tr>\n",
       "      <th>0</th>\n",
       "      <td>1</td>\n",
       "      <td>705</td>\n",
       "      <td>2023-01-01</td>\n",
       "      <td>63</td>\n",
       "      <td>Flipkart</td>\n",
       "      <td>Electronics</td>\n",
       "      <td>Phonepe</td>\n",
       "    </tr>\n",
       "    <tr>\n",
       "      <th>1</th>\n",
       "      <td>2</td>\n",
       "      <td>385</td>\n",
       "      <td>2023-01-01</td>\n",
       "      <td>99</td>\n",
       "      <td>Alibaba</td>\n",
       "      <td>Fashion &amp; Apparel</td>\n",
       "      <td>Credit Card</td>\n",
       "    </tr>\n",
       "    <tr>\n",
       "      <th>2</th>\n",
       "      <td>3</td>\n",
       "      <td>924</td>\n",
       "      <td>2023-01-01</td>\n",
       "      <td>471</td>\n",
       "      <td>Shopify</td>\n",
       "      <td>Sports</td>\n",
       "      <td>Phonepe</td>\n",
       "    </tr>\n",
       "    <tr>\n",
       "      <th>3</th>\n",
       "      <td>4</td>\n",
       "      <td>797</td>\n",
       "      <td>2023-01-01</td>\n",
       "      <td>33</td>\n",
       "      <td>Shopify</td>\n",
       "      <td>Fashion &amp; Apparel</td>\n",
       "      <td>Gpay</td>\n",
       "    </tr>\n",
       "    <tr>\n",
       "      <th>4</th>\n",
       "      <td>5</td>\n",
       "      <td>482</td>\n",
       "      <td>2023-01-01</td>\n",
       "      <td>68</td>\n",
       "      <td>Amazon</td>\n",
       "      <td>Fashion &amp; Apparel</td>\n",
       "      <td>Net Banking</td>\n",
       "    </tr>\n",
       "  </tbody>\n",
       "</table>\n",
       "</div>"
      ],
      "text/plain": [
       "   tran_id  cust_id   tran_date  tran_amount  platform   product_category  \\\n",
       "0        1      705  2023-01-01           63  Flipkart        Electronics   \n",
       "1        2      385  2023-01-01           99   Alibaba  Fashion & Apparel   \n",
       "2        3      924  2023-01-01          471   Shopify             Sports   \n",
       "3        4      797  2023-01-01           33   Shopify  Fashion & Apparel   \n",
       "4        5      482  2023-01-01           68    Amazon  Fashion & Apparel   \n",
       "\n",
       "  payment_type  \n",
       "0      Phonepe  \n",
       "1  Credit Card  \n",
       "2      Phonepe  \n",
       "3         Gpay  \n",
       "4  Net Banking  "
      ]
     },
     "execution_count": 4,
     "metadata": {},
     "output_type": "execute_result"
    }
   ],
   "source": [
    "df_transaction = pd.read_csv(r\"D:\\Ashish\\Data Science\\AtliQo-Bank-Credit-Card-Launch\\Input\\transactions.csv\")\n",
    "df_transaction.head()"
   ]
  },
  {
   "cell_type": "code",
   "execution_count": 5,
   "id": "bb54373f",
   "metadata": {},
   "outputs": [
    {
     "data": {
      "text/html": [
       "<div>\n",
       "<style scoped>\n",
       "    .dataframe tbody tr th:only-of-type {\n",
       "        vertical-align: middle;\n",
       "    }\n",
       "\n",
       "    .dataframe tbody tr th {\n",
       "        vertical-align: top;\n",
       "    }\n",
       "\n",
       "    .dataframe thead th {\n",
       "        text-align: right;\n",
       "    }\n",
       "</style>\n",
       "<table border=\"1\" class=\"dataframe\">\n",
       "  <thead>\n",
       "    <tr style=\"text-align: right;\">\n",
       "      <th></th>\n",
       "      <th>cust_id</th>\n",
       "      <th>credit_score</th>\n",
       "      <th>credit_utilisation</th>\n",
       "      <th>outstanding_debt</th>\n",
       "      <th>credit_inquiries_last_6_months</th>\n",
       "      <th>credit_limit</th>\n",
       "    </tr>\n",
       "  </thead>\n",
       "  <tbody>\n",
       "    <tr>\n",
       "      <th>0</th>\n",
       "      <td>1</td>\n",
       "      <td>749</td>\n",
       "      <td>0.585171</td>\n",
       "      <td>19571.0</td>\n",
       "      <td>0.0</td>\n",
       "      <td>40000.0</td>\n",
       "    </tr>\n",
       "    <tr>\n",
       "      <th>1</th>\n",
       "      <td>2</td>\n",
       "      <td>587</td>\n",
       "      <td>0.107928</td>\n",
       "      <td>161644.0</td>\n",
       "      <td>2.0</td>\n",
       "      <td>1250.0</td>\n",
       "    </tr>\n",
       "    <tr>\n",
       "      <th>2</th>\n",
       "      <td>3</td>\n",
       "      <td>544</td>\n",
       "      <td>0.854807</td>\n",
       "      <td>513.0</td>\n",
       "      <td>4.0</td>\n",
       "      <td>1000.0</td>\n",
       "    </tr>\n",
       "    <tr>\n",
       "      <th>3</th>\n",
       "      <td>4</td>\n",
       "      <td>504</td>\n",
       "      <td>0.336938</td>\n",
       "      <td>224.0</td>\n",
       "      <td>2.0</td>\n",
       "      <td>1000.0</td>\n",
       "    </tr>\n",
       "    <tr>\n",
       "      <th>4</th>\n",
       "      <td>5</td>\n",
       "      <td>708</td>\n",
       "      <td>0.586151</td>\n",
       "      <td>18090.0</td>\n",
       "      <td>2.0</td>\n",
       "      <td>40000.0</td>\n",
       "    </tr>\n",
       "  </tbody>\n",
       "</table>\n",
       "</div>"
      ],
      "text/plain": [
       "   cust_id  credit_score  credit_utilisation  outstanding_debt  \\\n",
       "0        1           749            0.585171           19571.0   \n",
       "1        2           587            0.107928          161644.0   \n",
       "2        3           544            0.854807             513.0   \n",
       "3        4           504            0.336938             224.0   \n",
       "4        5           708            0.586151           18090.0   \n",
       "\n",
       "   credit_inquiries_last_6_months  credit_limit  \n",
       "0                             0.0       40000.0  \n",
       "1                             2.0        1250.0  \n",
       "2                             4.0        1000.0  \n",
       "3                             2.0        1000.0  \n",
       "4                             2.0       40000.0  "
      ]
     },
     "execution_count": 5,
     "metadata": {},
     "output_type": "execute_result"
    }
   ],
   "source": [
    "df_credit_profile = pd.read_csv(r\"D:\\Ashish\\Data Science\\AtliQo-Bank-Credit-Card-Launch\\Input\\credit_profiles.csv\")\n",
    "df_credit_profile.head()"
   ]
  },
  {
   "cell_type": "code",
   "execution_count": 6,
   "id": "850e43c6",
   "metadata": {},
   "outputs": [
    {
     "name": "stdout",
     "output_type": "stream",
     "text": [
      "Customer DF shape: (1000, 8)\n",
      "Transaction DF shape: (500000, 7)\n",
      "Credit Profile DF shape: (1004, 6)\n"
     ]
    }
   ],
   "source": [
    "print(\"Customer DF shape:\", df_customer.shape)\n",
    "print(\"Transaction DF shape:\", df_transaction.shape)\n",
    "print(\"Credit Profile DF shape:\", df_credit_profile.shape)"
   ]
  },
  {
   "cell_type": "markdown",
   "id": "7ff34448",
   "metadata": {},
   "source": [
    "<h2 align=\"Center\"> Data Cleaning: Handle NULL values </h2>"
   ]
  },
  {
   "cell_type": "code",
   "execution_count": 7,
   "id": "2ae3003a",
   "metadata": {},
   "outputs": [
    {
     "data": {
      "text/html": [
       "<div>\n",
       "<style scoped>\n",
       "    .dataframe tbody tr th:only-of-type {\n",
       "        vertical-align: middle;\n",
       "    }\n",
       "\n",
       "    .dataframe tbody tr th {\n",
       "        vertical-align: top;\n",
       "    }\n",
       "\n",
       "    .dataframe thead th {\n",
       "        text-align: right;\n",
       "    }\n",
       "</style>\n",
       "<table border=\"1\" class=\"dataframe\">\n",
       "  <thead>\n",
       "    <tr style=\"text-align: right;\">\n",
       "      <th></th>\n",
       "      <th>cust_id</th>\n",
       "      <th>age</th>\n",
       "      <th>annual_income</th>\n",
       "    </tr>\n",
       "  </thead>\n",
       "  <tbody>\n",
       "    <tr>\n",
       "      <th>count</th>\n",
       "      <td>1000.000000</td>\n",
       "      <td>1000.000000</td>\n",
       "      <td>950.000000</td>\n",
       "    </tr>\n",
       "    <tr>\n",
       "      <th>mean</th>\n",
       "      <td>500.500000</td>\n",
       "      <td>36.405000</td>\n",
       "      <td>139410.314737</td>\n",
       "    </tr>\n",
       "    <tr>\n",
       "      <th>std</th>\n",
       "      <td>288.819436</td>\n",
       "      <td>15.666155</td>\n",
       "      <td>112416.802007</td>\n",
       "    </tr>\n",
       "    <tr>\n",
       "      <th>min</th>\n",
       "      <td>1.000000</td>\n",
       "      <td>1.000000</td>\n",
       "      <td>2.000000</td>\n",
       "    </tr>\n",
       "    <tr>\n",
       "      <th>25%</th>\n",
       "      <td>250.750000</td>\n",
       "      <td>26.000000</td>\n",
       "      <td>47627.500000</td>\n",
       "    </tr>\n",
       "    <tr>\n",
       "      <th>50%</th>\n",
       "      <td>500.500000</td>\n",
       "      <td>32.000000</td>\n",
       "      <td>112218.500000</td>\n",
       "    </tr>\n",
       "    <tr>\n",
       "      <th>75%</th>\n",
       "      <td>750.250000</td>\n",
       "      <td>46.000000</td>\n",
       "      <td>193137.500000</td>\n",
       "    </tr>\n",
       "    <tr>\n",
       "      <th>max</th>\n",
       "      <td>1000.000000</td>\n",
       "      <td>135.000000</td>\n",
       "      <td>449346.000000</td>\n",
       "    </tr>\n",
       "  </tbody>\n",
       "</table>\n",
       "</div>"
      ],
      "text/plain": [
       "           cust_id          age  annual_income\n",
       "count  1000.000000  1000.000000     950.000000\n",
       "mean    500.500000    36.405000  139410.314737\n",
       "std     288.819436    15.666155  112416.802007\n",
       "min       1.000000     1.000000       2.000000\n",
       "25%     250.750000    26.000000   47627.500000\n",
       "50%     500.500000    32.000000  112218.500000\n",
       "75%     750.250000    46.000000  193137.500000\n",
       "max    1000.000000   135.000000  449346.000000"
      ]
     },
     "execution_count": 7,
     "metadata": {},
     "output_type": "execute_result"
    }
   ],
   "source": [
    "df_customer.describe()"
   ]
  },
  {
   "cell_type": "code",
   "execution_count": 8,
   "id": "e093a468",
   "metadata": {},
   "outputs": [
    {
     "data": {
      "text/html": [
       "<div>\n",
       "<style scoped>\n",
       "    .dataframe tbody tr th:only-of-type {\n",
       "        vertical-align: middle;\n",
       "    }\n",
       "\n",
       "    .dataframe tbody tr th {\n",
       "        vertical-align: top;\n",
       "    }\n",
       "\n",
       "    .dataframe thead th {\n",
       "        text-align: right;\n",
       "    }\n",
       "</style>\n",
       "<table border=\"1\" class=\"dataframe\">\n",
       "  <thead>\n",
       "    <tr style=\"text-align: right;\">\n",
       "      <th></th>\n",
       "      <th>cust_id</th>\n",
       "      <th>name</th>\n",
       "      <th>gender</th>\n",
       "      <th>age</th>\n",
       "      <th>location</th>\n",
       "      <th>occupation</th>\n",
       "      <th>annual_income</th>\n",
       "      <th>marital_status</th>\n",
       "    </tr>\n",
       "  </thead>\n",
       "  <tbody>\n",
       "    <tr>\n",
       "      <th>14</th>\n",
       "      <td>15</td>\n",
       "      <td>Sanjana Malik</td>\n",
       "      <td>Female</td>\n",
       "      <td>25</td>\n",
       "      <td>Rural</td>\n",
       "      <td>Artist</td>\n",
       "      <td>NaN</td>\n",
       "      <td>Married</td>\n",
       "    </tr>\n",
       "    <tr>\n",
       "      <th>82</th>\n",
       "      <td>83</td>\n",
       "      <td>Reyansh Mukherjee</td>\n",
       "      <td>Male</td>\n",
       "      <td>27</td>\n",
       "      <td>City</td>\n",
       "      <td>Freelancer</td>\n",
       "      <td>NaN</td>\n",
       "      <td>Single</td>\n",
       "    </tr>\n",
       "    <tr>\n",
       "      <th>97</th>\n",
       "      <td>98</td>\n",
       "      <td>Virat Puri</td>\n",
       "      <td>Male</td>\n",
       "      <td>47</td>\n",
       "      <td>Suburb</td>\n",
       "      <td>Business Owner</td>\n",
       "      <td>NaN</td>\n",
       "      <td>Married</td>\n",
       "    </tr>\n",
       "    <tr>\n",
       "      <th>102</th>\n",
       "      <td>103</td>\n",
       "      <td>Aarav Shah</td>\n",
       "      <td>Male</td>\n",
       "      <td>32</td>\n",
       "      <td>City</td>\n",
       "      <td>Data Scientist</td>\n",
       "      <td>NaN</td>\n",
       "      <td>Married</td>\n",
       "    </tr>\n",
       "    <tr>\n",
       "      <th>155</th>\n",
       "      <td>156</td>\n",
       "      <td>Kiaan Saxena</td>\n",
       "      <td>Male</td>\n",
       "      <td>24</td>\n",
       "      <td>City</td>\n",
       "      <td>Fullstack Developer</td>\n",
       "      <td>NaN</td>\n",
       "      <td>Married</td>\n",
       "    </tr>\n",
       "  </tbody>\n",
       "</table>\n",
       "</div>"
      ],
      "text/plain": [
       "     cust_id               name  gender  age location           occupation  \\\n",
       "14        15      Sanjana Malik  Female   25    Rural               Artist   \n",
       "82        83  Reyansh Mukherjee    Male   27     City           Freelancer   \n",
       "97        98         Virat Puri    Male   47   Suburb       Business Owner   \n",
       "102      103         Aarav Shah    Male   32     City       Data Scientist   \n",
       "155      156       Kiaan Saxena    Male   24     City  Fullstack Developer   \n",
       "\n",
       "     annual_income marital_status  \n",
       "14             NaN        Married  \n",
       "82             NaN         Single  \n",
       "97             NaN        Married  \n",
       "102            NaN        Married  \n",
       "155            NaN        Married  "
      ]
     },
     "execution_count": 8,
     "metadata": {},
     "output_type": "execute_result"
    }
   ],
   "source": [
    "df_customer.loc[df_customer['annual_income'].isnull()].head()"
   ]
  },
  {
   "cell_type": "code",
   "execution_count": 9,
   "id": "1441b222",
   "metadata": {},
   "outputs": [
    {
     "name": "stdout",
     "output_type": "stream",
     "text": [
      "Mean Annual Income: 139410.31473684212\n",
      "Median Annual Income: 112218.5\n"
     ]
    }
   ],
   "source": [
    "mean_annual_income = df_customer['annual_income'].mean()\n",
    "median_annual_income = df_customer['annual_income'].median()\n",
    "\n",
    "print(\"Mean Annual Income:\", mean_annual_income)\n",
    "print(\"Median Annual Income:\", median_annual_income)"
   ]
  },
  {
   "cell_type": "markdown",
   "id": "6a133778",
   "metadata": {},
   "source": [
    "<h3>We can replace the 0 values with the Mean or Median, but since there are different occupations, we need to calculate and apply the Mean/Median separately for each occupation.</h3>"
   ]
  },
  {
   "cell_type": "code",
   "execution_count": 10,
   "id": "c2c8a288",
   "metadata": {},
   "outputs": [
    {
     "data": {
      "text/plain": [
       "occupation\n",
       "Accountant              65265.0\n",
       "Artist                  45794.0\n",
       "Business Owner         261191.5\n",
       "Consultant              58017.0\n",
       "Data Scientist         135759.0\n",
       "Freelancer              46759.0\n",
       "Fullstack Developer     76774.0\n",
       "Name: annual_income, dtype: float64"
      ]
     },
     "execution_count": 10,
     "metadata": {},
     "output_type": "execute_result"
    }
   ],
   "source": [
    "occupation_wise_median = df_customer.groupby('occupation')['annual_income'].median()\n",
    "occupation_wise_median"
   ]
  },
  {
   "cell_type": "markdown",
   "id": "148b9312",
   "metadata": {},
   "source": [
    "<h3>Use a Lambda Function with apply to Call get_median_value</h3>"
   ]
  },
  {
   "cell_type": "code",
   "execution_count": 11,
   "id": "2801a723",
   "metadata": {},
   "outputs": [],
   "source": [
    "df_customer['annual_income'] = df_customer.apply(lambda row: occupation_wise_median[row['occupation']] if pd.isnull(row['annual_income'])\n",
    "                                                 else row['annual_income'], axis=1)"
   ]
  },
  {
   "cell_type": "code",
   "execution_count": 12,
   "id": "3a44d03e",
   "metadata": {},
   "outputs": [
    {
     "data": {
      "text/html": [
       "<div>\n",
       "<style scoped>\n",
       "    .dataframe tbody tr th:only-of-type {\n",
       "        vertical-align: middle;\n",
       "    }\n",
       "\n",
       "    .dataframe tbody tr th {\n",
       "        vertical-align: top;\n",
       "    }\n",
       "\n",
       "    .dataframe thead th {\n",
       "        text-align: right;\n",
       "    }\n",
       "</style>\n",
       "<table border=\"1\" class=\"dataframe\">\n",
       "  <thead>\n",
       "    <tr style=\"text-align: right;\">\n",
       "      <th></th>\n",
       "      <th>cust_id</th>\n",
       "      <th>name</th>\n",
       "      <th>gender</th>\n",
       "      <th>age</th>\n",
       "      <th>location</th>\n",
       "      <th>occupation</th>\n",
       "      <th>annual_income</th>\n",
       "      <th>marital_status</th>\n",
       "    </tr>\n",
       "  </thead>\n",
       "  <tbody>\n",
       "  </tbody>\n",
       "</table>\n",
       "</div>"
      ],
      "text/plain": [
       "Empty DataFrame\n",
       "Columns: [cust_id, name, gender, age, location, occupation, annual_income, marital_status]\n",
       "Index: []"
      ]
     },
     "execution_count": 12,
     "metadata": {},
     "output_type": "execute_result"
    }
   ],
   "source": [
    "df_customer.loc[df_customer['annual_income'].isnull()].head()"
   ]
  },
  {
   "cell_type": "code",
   "execution_count": 13,
   "id": "86474595",
   "metadata": {},
   "outputs": [
    {
     "name": "stdout",
     "output_type": "stream",
     "text": [
      "Annual income updated successfully.\n",
      "14    45794.0\n",
      "82    46759.0\n",
      "Name: annual_income, dtype: float64\n"
     ]
    }
   ],
   "source": [
    "print(\"Annual income updated successfully.\")\n",
    "# print(df_customer.iloc[14]['annual_income'], df_customer.iloc[82]['annual_income'])\n",
    "print(df_customer.iloc[[14, 82]]['annual_income'])"
   ]
  },
  {
   "cell_type": "code",
   "execution_count": 14,
   "id": "2638028c",
   "metadata": {},
   "outputs": [
    {
     "data": {
      "text/html": [
       "<div>\n",
       "<style scoped>\n",
       "    .dataframe tbody tr th:only-of-type {\n",
       "        vertical-align: middle;\n",
       "    }\n",
       "\n",
       "    .dataframe tbody tr th {\n",
       "        vertical-align: top;\n",
       "    }\n",
       "\n",
       "    .dataframe thead th {\n",
       "        text-align: right;\n",
       "    }\n",
       "</style>\n",
       "<table border=\"1\" class=\"dataframe\">\n",
       "  <thead>\n",
       "    <tr style=\"text-align: right;\">\n",
       "      <th></th>\n",
       "      <th>cust_id</th>\n",
       "      <th>age</th>\n",
       "      <th>annual_income</th>\n",
       "    </tr>\n",
       "  </thead>\n",
       "  <tbody>\n",
       "    <tr>\n",
       "      <th>count</th>\n",
       "      <td>1000.000000</td>\n",
       "      <td>1000.000000</td>\n",
       "      <td>1000.000000</td>\n",
       "    </tr>\n",
       "    <tr>\n",
       "      <th>mean</th>\n",
       "      <td>500.500000</td>\n",
       "      <td>36.405000</td>\n",
       "      <td>138916.765500</td>\n",
       "    </tr>\n",
       "    <tr>\n",
       "      <th>std</th>\n",
       "      <td>288.819436</td>\n",
       "      <td>15.666155</td>\n",
       "      <td>110969.408643</td>\n",
       "    </tr>\n",
       "    <tr>\n",
       "      <th>min</th>\n",
       "      <td>1.000000</td>\n",
       "      <td>1.000000</td>\n",
       "      <td>2.000000</td>\n",
       "    </tr>\n",
       "    <tr>\n",
       "      <th>25%</th>\n",
       "      <td>250.750000</td>\n",
       "      <td>26.000000</td>\n",
       "      <td>48229.500000</td>\n",
       "    </tr>\n",
       "    <tr>\n",
       "      <th>50%</th>\n",
       "      <td>500.500000</td>\n",
       "      <td>32.000000</td>\n",
       "      <td>113416.000000</td>\n",
       "    </tr>\n",
       "    <tr>\n",
       "      <th>75%</th>\n",
       "      <td>750.250000</td>\n",
       "      <td>46.000000</td>\n",
       "      <td>192614.000000</td>\n",
       "    </tr>\n",
       "    <tr>\n",
       "      <th>max</th>\n",
       "      <td>1000.000000</td>\n",
       "      <td>135.000000</td>\n",
       "      <td>449346.000000</td>\n",
       "    </tr>\n",
       "  </tbody>\n",
       "</table>\n",
       "</div>"
      ],
      "text/plain": [
       "           cust_id          age  annual_income\n",
       "count  1000.000000  1000.000000    1000.000000\n",
       "mean    500.500000    36.405000  138916.765500\n",
       "std     288.819436    15.666155  110969.408643\n",
       "min       1.000000     1.000000       2.000000\n",
       "25%     250.750000    26.000000   48229.500000\n",
       "50%     500.500000    32.000000  113416.000000\n",
       "75%     750.250000    46.000000  192614.000000\n",
       "max    1000.000000   135.000000  449346.000000"
      ]
     },
     "execution_count": 14,
     "metadata": {},
     "output_type": "execute_result"
    }
   ],
   "source": [
    "df_customer.describe()"
   ]
  },
  {
   "cell_type": "markdown",
   "id": "4a497847",
   "metadata": {},
   "source": [
    "<h3> Plot a Histogram of Annual Income </h3>"
   ]
  },
  {
   "cell_type": "code",
   "execution_count": 15,
   "id": "10c6d7da",
   "metadata": {},
   "outputs": [
    {
     "data": {
      "image/png": "[encoded data removed]",
      "text/plain": [
       "<Figure size 1000x600 with 1 Axes>"
      ]
     },
     "metadata": {},
     "output_type": "display_data"
    }
   ],
   "source": [
    "plt.figure(figsize=(10,6))\n",
    "sns.histplot(data=df_customer['annual_income'], bins=30, kde=True, color='green', label='Annual Income')\n",
    "\n",
    "plt.title('Distribution of Annual Income')\n",
    "plt.xlabel('Annual Income')\n",
    "plt.ylabel('Frequency')\n",
    "plt.grid(True)\n",
    "plt.show()"
   ]
  },
  {
   "cell_type": "markdown",
   "id": "1f5d3a5a",
   "metadata": {},
   "source": [
    "<h2 align=\"Center\"> The annual income shows a right-skewed distribution. </h2>"
   ]
  },
  {
   "cell_type": "markdown",
   "id": "830edb72",
   "metadata": {},
   "source": [
    "<h2 align=Center> Exercise: Treat Outliers in Age Column </h2>"
   ]
  },
  {
   "cell_type": "markdown",
   "id": "033481fe",
   "metadata": {},
   "source": [
    "<h3> Age is valid only if it is between 15 and 85 years. </h3>"
   ]
  },
  {
   "cell_type": "code",
   "execution_count": 16,
   "id": "f00c557c",
   "metadata": {},
   "outputs": [
    {
     "data": {
      "text/html": [
       "<div>\n",
       "<style scoped>\n",
       "    .dataframe tbody tr th:only-of-type {\n",
       "        vertical-align: middle;\n",
       "    }\n",
       "\n",
       "    .dataframe tbody tr th {\n",
       "        vertical-align: top;\n",
       "    }\n",
       "\n",
       "    .dataframe thead th {\n",
       "        text-align: right;\n",
       "    }\n",
       "</style>\n",
       "<table border=\"1\" class=\"dataframe\">\n",
       "  <thead>\n",
       "    <tr style=\"text-align: right;\">\n",
       "      <th></th>\n",
       "      <th>cust_id</th>\n",
       "      <th>name</th>\n",
       "      <th>gender</th>\n",
       "      <th>age</th>\n",
       "      <th>location</th>\n",
       "      <th>occupation</th>\n",
       "      <th>annual_income</th>\n",
       "      <th>marital_status</th>\n",
       "    </tr>\n",
       "  </thead>\n",
       "  <tbody>\n",
       "    <tr>\n",
       "      <th>0</th>\n",
       "      <td>1</td>\n",
       "      <td>Manya Acharya</td>\n",
       "      <td>Female</td>\n",
       "      <td>2</td>\n",
       "      <td>City</td>\n",
       "      <td>Business Owner</td>\n",
       "      <td>358211.0</td>\n",
       "      <td>Married</td>\n",
       "    </tr>\n",
       "    <tr>\n",
       "      <th>41</th>\n",
       "      <td>42</td>\n",
       "      <td>Aaryan Shah</td>\n",
       "      <td>Male</td>\n",
       "      <td>110</td>\n",
       "      <td>City</td>\n",
       "      <td>Artist</td>\n",
       "      <td>7621.0</td>\n",
       "      <td>Married</td>\n",
       "    </tr>\n",
       "    <tr>\n",
       "      <th>165</th>\n",
       "      <td>166</td>\n",
       "      <td>Sia Dutta</td>\n",
       "      <td>Female</td>\n",
       "      <td>1</td>\n",
       "      <td>City</td>\n",
       "      <td>Freelancer</td>\n",
       "      <td>39721.0</td>\n",
       "      <td>Single</td>\n",
       "    </tr>\n",
       "    <tr>\n",
       "      <th>174</th>\n",
       "      <td>175</td>\n",
       "      <td>Rohan Sharma</td>\n",
       "      <td>Male</td>\n",
       "      <td>110</td>\n",
       "      <td>City</td>\n",
       "      <td>Freelancer</td>\n",
       "      <td>23723.0</td>\n",
       "      <td>Married</td>\n",
       "    </tr>\n",
       "    <tr>\n",
       "      <th>222</th>\n",
       "      <td>223</td>\n",
       "      <td>Arjun Batra</td>\n",
       "      <td>Male</td>\n",
       "      <td>110</td>\n",
       "      <td>Suburb</td>\n",
       "      <td>Freelancer</td>\n",
       "      <td>210987.0</td>\n",
       "      <td>Married</td>\n",
       "    </tr>\n",
       "    <tr>\n",
       "      <th>277</th>\n",
       "      <td>278</td>\n",
       "      <td>Aarav Tandon</td>\n",
       "      <td>Male</td>\n",
       "      <td>110</td>\n",
       "      <td>City</td>\n",
       "      <td>Consultant</td>\n",
       "      <td>96522.0</td>\n",
       "      <td>Single</td>\n",
       "    </tr>\n",
       "    <tr>\n",
       "      <th>295</th>\n",
       "      <td>296</td>\n",
       "      <td>Ayush Pandey</td>\n",
       "      <td>Male</td>\n",
       "      <td>1</td>\n",
       "      <td>Rural</td>\n",
       "      <td>Accountant</td>\n",
       "      <td>55254.0</td>\n",
       "      <td>Married</td>\n",
       "    </tr>\n",
       "    <tr>\n",
       "      <th>325</th>\n",
       "      <td>326</td>\n",
       "      <td>Virat Goel</td>\n",
       "      <td>Male</td>\n",
       "      <td>110</td>\n",
       "      <td>City</td>\n",
       "      <td>Accountant</td>\n",
       "      <td>61021.0</td>\n",
       "      <td>Single</td>\n",
       "    </tr>\n",
       "    <tr>\n",
       "      <th>610</th>\n",
       "      <td>611</td>\n",
       "      <td>Rehan Verma</td>\n",
       "      <td>Male</td>\n",
       "      <td>135</td>\n",
       "      <td>Rural</td>\n",
       "      <td>Business Owner</td>\n",
       "      <td>444776.0</td>\n",
       "      <td>Married</td>\n",
       "    </tr>\n",
       "    <tr>\n",
       "      <th>692</th>\n",
       "      <td>693</td>\n",
       "      <td>Dhruv Jha</td>\n",
       "      <td>Male</td>\n",
       "      <td>1</td>\n",
       "      <td>City</td>\n",
       "      <td>Business Owner</td>\n",
       "      <td>83045.0</td>\n",
       "      <td>Married</td>\n",
       "    </tr>\n",
       "    <tr>\n",
       "      <th>703</th>\n",
       "      <td>704</td>\n",
       "      <td>Aanya Sharma</td>\n",
       "      <td>Female</td>\n",
       "      <td>110</td>\n",
       "      <td>City</td>\n",
       "      <td>Freelancer</td>\n",
       "      <td>43404.0</td>\n",
       "      <td>Single</td>\n",
       "    </tr>\n",
       "    <tr>\n",
       "      <th>709</th>\n",
       "      <td>710</td>\n",
       "      <td>Anika Verma</td>\n",
       "      <td>Female</td>\n",
       "      <td>110</td>\n",
       "      <td>City</td>\n",
       "      <td>Data Scientist</td>\n",
       "      <td>98417.0</td>\n",
       "      <td>Married</td>\n",
       "    </tr>\n",
       "    <tr>\n",
       "      <th>728</th>\n",
       "      <td>729</td>\n",
       "      <td>Rehan Yadav</td>\n",
       "      <td>Male</td>\n",
       "      <td>135</td>\n",
       "      <td>City</td>\n",
       "      <td>Business Owner</td>\n",
       "      <td>382836.0</td>\n",
       "      <td>Married</td>\n",
       "    </tr>\n",
       "    <tr>\n",
       "      <th>832</th>\n",
       "      <td>833</td>\n",
       "      <td>Ridhi Raj</td>\n",
       "      <td>Female</td>\n",
       "      <td>110</td>\n",
       "      <td>City</td>\n",
       "      <td>Fullstack Developer</td>\n",
       "      <td>95379.0</td>\n",
       "      <td>Single</td>\n",
       "    </tr>\n",
       "    <tr>\n",
       "      <th>845</th>\n",
       "      <td>846</td>\n",
       "      <td>Rohan Jaiswal</td>\n",
       "      <td>Male</td>\n",
       "      <td>1</td>\n",
       "      <td>City</td>\n",
       "      <td>Consultant</td>\n",
       "      <td>20838.0</td>\n",
       "      <td>Married</td>\n",
       "    </tr>\n",
       "    <tr>\n",
       "      <th>855</th>\n",
       "      <td>856</td>\n",
       "      <td>Aanya Taneja</td>\n",
       "      <td>Female</td>\n",
       "      <td>2</td>\n",
       "      <td>City</td>\n",
       "      <td>Fullstack Developer</td>\n",
       "      <td>30689.0</td>\n",
       "      <td>Married</td>\n",
       "    </tr>\n",
       "    <tr>\n",
       "      <th>895</th>\n",
       "      <td>896</td>\n",
       "      <td>Krishna Goswami</td>\n",
       "      <td>Male</td>\n",
       "      <td>1</td>\n",
       "      <td>City</td>\n",
       "      <td>Freelancer</td>\n",
       "      <td>31533.0</td>\n",
       "      <td>Married</td>\n",
       "    </tr>\n",
       "    <tr>\n",
       "      <th>923</th>\n",
       "      <td>924</td>\n",
       "      <td>Kunal Patel</td>\n",
       "      <td>Male</td>\n",
       "      <td>110</td>\n",
       "      <td>City</td>\n",
       "      <td>Freelancer</td>\n",
       "      <td>51629.0</td>\n",
       "      <td>Married</td>\n",
       "    </tr>\n",
       "    <tr>\n",
       "      <th>951</th>\n",
       "      <td>952</td>\n",
       "      <td>Virat Shetty</td>\n",
       "      <td>Male</td>\n",
       "      <td>135</td>\n",
       "      <td>City</td>\n",
       "      <td>Data Scientist</td>\n",
       "      <td>49677.0</td>\n",
       "      <td>Married</td>\n",
       "    </tr>\n",
       "    <tr>\n",
       "      <th>991</th>\n",
       "      <td>992</td>\n",
       "      <td>Arya Dube</td>\n",
       "      <td>Male</td>\n",
       "      <td>135</td>\n",
       "      <td>City</td>\n",
       "      <td>Fullstack Developer</td>\n",
       "      <td>93267.0</td>\n",
       "      <td>Single</td>\n",
       "    </tr>\n",
       "  </tbody>\n",
       "</table>\n",
       "</div>"
      ],
      "text/plain": [
       "     cust_id             name  gender  age location           occupation  \\\n",
       "0          1    Manya Acharya  Female    2     City       Business Owner   \n",
       "41        42      Aaryan Shah    Male  110     City               Artist   \n",
       "165      166        Sia Dutta  Female    1     City           Freelancer   \n",
       "174      175     Rohan Sharma    Male  110     City           Freelancer   \n",
       "222      223      Arjun Batra    Male  110   Suburb           Freelancer   \n",
       "277      278     Aarav Tandon    Male  110     City           Consultant   \n",
       "295      296     Ayush Pandey    Male    1    Rural           Accountant   \n",
       "325      326       Virat Goel    Male  110     City           Accountant   \n",
       "610      611      Rehan Verma    Male  135    Rural       Business Owner   \n",
       "692      693        Dhruv Jha    Male    1     City       Business Owner   \n",
       "703      704     Aanya Sharma  Female  110     City           Freelancer   \n",
       "709      710      Anika Verma  Female  110     City       Data Scientist   \n",
       "728      729      Rehan Yadav    Male  135     City       Business Owner   \n",
       "832      833        Ridhi Raj  Female  110     City  Fullstack Developer   \n",
       "845      846    Rohan Jaiswal    Male    1     City           Consultant   \n",
       "855      856     Aanya Taneja  Female    2     City  Fullstack Developer   \n",
       "895      896  Krishna Goswami    Male    1     City           Freelancer   \n",
       "923      924      Kunal Patel    Male  110     City           Freelancer   \n",
       "951      952     Virat Shetty    Male  135     City       Data Scientist   \n",
       "991      992        Arya Dube    Male  135     City  Fullstack Developer   \n",
       "\n",
       "     annual_income marital_status  \n",
       "0         358211.0        Married  \n",
       "41          7621.0        Married  \n",
       "165        39721.0         Single  \n",
       "174        23723.0        Married  \n",
       "222       210987.0        Married  \n",
       "277        96522.0         Single  \n",
       "295        55254.0        Married  \n",
       "325        61021.0         Single  \n",
       "610       444776.0        Married  \n",
       "692        83045.0        Married  \n",
       "703        43404.0         Single  \n",
       "709        98417.0        Married  \n",
       "728       382836.0        Married  \n",
       "832        95379.0         Single  \n",
       "845        20838.0        Married  \n",
       "855        30689.0        Married  \n",
       "895        31533.0        Married  \n",
       "923        51629.0        Married  \n",
       "951        49677.0        Married  \n",
       "991        93267.0         Single  "
      ]
     },
     "execution_count": 16,
     "metadata": {},
     "output_type": "execute_result"
    }
   ],
   "source": [
    "df_customer.loc[(df_customer['age'] < 15) | (df_customer['age'] > 85)]"
   ]
  },
  {
   "cell_type": "code",
   "execution_count": 17,
   "id": "0a09eef6",
   "metadata": {},
   "outputs": [
    {
     "data": {
      "text/plain": [
       "occupation\n",
       "Accountant             31.5\n",
       "Artist                 26.0\n",
       "Business Owner         51.0\n",
       "Consultant             46.0\n",
       "Data Scientist         32.0\n",
       "Freelancer             24.0\n",
       "Fullstack Developer    27.5\n",
       "Name: age, dtype: float64"
      ]
     },
     "execution_count": 17,
     "metadata": {},
     "output_type": "execute_result"
    }
   ],
   "source": [
    "occupation_wise_age = df_customer.groupby('occupation')['age'].median()\n",
    "occupation_wise_age"
   ]
  },
  {
   "cell_type": "code",
   "execution_count": 18,
   "id": "6a1ec285",
   "metadata": {},
   "outputs": [],
   "source": [
    "df_customer['age'] = df_customer.apply(lambda row: occupation_wise_age[row['occupation']] \n",
    "                                       if (row['age'] < 15) | (row['age'] > 85) \n",
    "                                       else row['age'], axis=1)"
   ]
  },
  {
   "cell_type": "code",
   "execution_count": 19,
   "id": "b753fe04",
   "metadata": {},
   "outputs": [
    {
     "data": {
      "text/html": [
       "<div>\n",
       "<style scoped>\n",
       "    .dataframe tbody tr th:only-of-type {\n",
       "        vertical-align: middle;\n",
       "    }\n",
       "\n",
       "    .dataframe tbody tr th {\n",
       "        vertical-align: top;\n",
       "    }\n",
       "\n",
       "    .dataframe thead th {\n",
       "        text-align: right;\n",
       "    }\n",
       "</style>\n",
       "<table border=\"1\" class=\"dataframe\">\n",
       "  <thead>\n",
       "    <tr style=\"text-align: right;\">\n",
       "      <th></th>\n",
       "      <th>cust_id</th>\n",
       "      <th>name</th>\n",
       "      <th>gender</th>\n",
       "      <th>age</th>\n",
       "      <th>location</th>\n",
       "      <th>occupation</th>\n",
       "      <th>annual_income</th>\n",
       "      <th>marital_status</th>\n",
       "    </tr>\n",
       "  </thead>\n",
       "  <tbody>\n",
       "  </tbody>\n",
       "</table>\n",
       "</div>"
      ],
      "text/plain": [
       "Empty DataFrame\n",
       "Columns: [cust_id, name, gender, age, location, occupation, annual_income, marital_status]\n",
       "Index: []"
      ]
     },
     "execution_count": 19,
     "metadata": {},
     "output_type": "execute_result"
    }
   ],
   "source": [
    "df_customer.loc[(df_customer['age'] < 15) | (df_customer['age'] > 85)]"
   ]
  },
  {
   "cell_type": "code",
   "execution_count": 20,
   "id": "e3e6c950",
   "metadata": {},
   "outputs": [
    {
     "name": "stdout",
     "output_type": "stream",
     "text": [
      "        occupation   age\n",
      "0   Business Owner  51.0\n",
      "41          Artist  26.0\n"
     ]
    }
   ],
   "source": [
    "print(df_customer.iloc[[0, 41]][['occupation','age']])"
   ]
  },
  {
   "cell_type": "markdown",
   "id": "672f0b77",
   "metadata": {},
   "source": [
    "<h2 align=Center> Data Visualization: Age, Gender, Location </h2> "
   ]
  },
  {
   "cell_type": "markdown",
   "id": "1d128e8c",
   "metadata": {},
   "source": [
    "<h3> Create Age group column [18-25, 26-48. 49-65] </h3>"
   ]
  },
  {
   "cell_type": "code",
   "execution_count": 21,
   "id": "4a4f11db",
   "metadata": {},
   "outputs": [],
   "source": [
    "bin_edge = [17, 25, 48, 65]\n",
    "\n",
    "bin_labels = ['17-25', '26-48', '49-65']\n",
    "\n",
    "df_customer['age_group'] = pd.cut(df_customer['age'], bins=bin_edge, labels=bin_labels)"
   ]
  },
  {
   "cell_type": "code",
   "execution_count": 22,
   "id": "40f6d523",
   "metadata": {},
   "outputs": [
    {
     "data": {
      "text/html": [
       "<div>\n",
       "<style scoped>\n",
       "    .dataframe tbody tr th:only-of-type {\n",
       "        vertical-align: middle;\n",
       "    }\n",
       "\n",
       "    .dataframe tbody tr th {\n",
       "        vertical-align: top;\n",
       "    }\n",
       "\n",
       "    .dataframe thead th {\n",
       "        text-align: right;\n",
       "    }\n",
       "</style>\n",
       "<table border=\"1\" class=\"dataframe\">\n",
       "  <thead>\n",
       "    <tr style=\"text-align: right;\">\n",
       "      <th></th>\n",
       "      <th>cust_id</th>\n",
       "      <th>name</th>\n",
       "      <th>gender</th>\n",
       "      <th>age</th>\n",
       "      <th>location</th>\n",
       "      <th>occupation</th>\n",
       "      <th>annual_income</th>\n",
       "      <th>marital_status</th>\n",
       "      <th>age_group</th>\n",
       "    </tr>\n",
       "  </thead>\n",
       "  <tbody>\n",
       "    <tr>\n",
       "      <th>0</th>\n",
       "      <td>1</td>\n",
       "      <td>Manya Acharya</td>\n",
       "      <td>Female</td>\n",
       "      <td>51.0</td>\n",
       "      <td>City</td>\n",
       "      <td>Business Owner</td>\n",
       "      <td>358211.0</td>\n",
       "      <td>Married</td>\n",
       "      <td>49-65</td>\n",
       "    </tr>\n",
       "    <tr>\n",
       "      <th>1</th>\n",
       "      <td>2</td>\n",
       "      <td>Anjali Pandey</td>\n",
       "      <td>Female</td>\n",
       "      <td>47.0</td>\n",
       "      <td>City</td>\n",
       "      <td>Consultant</td>\n",
       "      <td>65172.0</td>\n",
       "      <td>Single</td>\n",
       "      <td>26-48</td>\n",
       "    </tr>\n",
       "    <tr>\n",
       "      <th>2</th>\n",
       "      <td>3</td>\n",
       "      <td>Aaryan Chauhan</td>\n",
       "      <td>Male</td>\n",
       "      <td>21.0</td>\n",
       "      <td>City</td>\n",
       "      <td>Freelancer</td>\n",
       "      <td>22378.0</td>\n",
       "      <td>Married</td>\n",
       "      <td>17-25</td>\n",
       "    </tr>\n",
       "    <tr>\n",
       "      <th>3</th>\n",
       "      <td>4</td>\n",
       "      <td>Rudra Bali</td>\n",
       "      <td>Male</td>\n",
       "      <td>24.0</td>\n",
       "      <td>Rural</td>\n",
       "      <td>Freelancer</td>\n",
       "      <td>33563.0</td>\n",
       "      <td>Married</td>\n",
       "      <td>17-25</td>\n",
       "    </tr>\n",
       "    <tr>\n",
       "      <th>4</th>\n",
       "      <td>5</td>\n",
       "      <td>Advait Malik</td>\n",
       "      <td>Male</td>\n",
       "      <td>48.0</td>\n",
       "      <td>City</td>\n",
       "      <td>Consultant</td>\n",
       "      <td>39406.0</td>\n",
       "      <td>Married</td>\n",
       "      <td>26-48</td>\n",
       "    </tr>\n",
       "  </tbody>\n",
       "</table>\n",
       "</div>"
      ],
      "text/plain": [
       "   cust_id            name  gender   age location      occupation  \\\n",
       "0        1   Manya Acharya  Female  51.0     City  Business Owner   \n",
       "1        2   Anjali Pandey  Female  47.0     City      Consultant   \n",
       "2        3  Aaryan Chauhan    Male  21.0     City      Freelancer   \n",
       "3        4      Rudra Bali    Male  24.0    Rural      Freelancer   \n",
       "4        5    Advait Malik    Male  48.0     City      Consultant   \n",
       "\n",
       "   annual_income marital_status age_group  \n",
       "0       358211.0        Married     49-65  \n",
       "1        65172.0         Single     26-48  \n",
       "2        22378.0        Married     17-25  \n",
       "3        33563.0        Married     17-25  \n",
       "4        39406.0        Married     26-48  "
      ]
     },
     "execution_count": 22,
     "metadata": {},
     "output_type": "execute_result"
    }
   ],
   "source": [
    "df_customer.head()"
   ]
  },
  {
   "cell_type": "code",
   "execution_count": 24,
   "id": "2c73dd2a",
   "metadata": {},
   "outputs": [
    {
     "data": {
      "image/png": "[encoded data removed]",
      "text/plain": [
       "<Figure size 1000x600 with 1 Axes>"
      ]
     },
     "metadata": {},
     "output_type": "display_data"
    }
   ],
   "source": [
    "plt.figure(figsize=(10,6))\n",
    "\n",
    "age_group_count = df_customer['age_group'].value_counts()\n",
    "\n",
    "plt.pie(age_group_count, labels=age_group_count.index, autopct='%1.1f%%', startangle=140)\n",
    "plt.title('Age Group Distribution')\n",
    "plt.axis('equal')\n",
    "plt.show()"
   ]
  },
  {
   "cell_type": "code",
   "execution_count": 27,
   "id": "28612666",
   "metadata": {},
   "outputs": [
    {
     "data": {
      "text/html": [
       "<div>\n",
       "<style scoped>\n",
       "    .dataframe tbody tr th:only-of-type {\n",
       "        vertical-align: middle;\n",
       "    }\n",
       "\n",
       "    .dataframe tbody tr th {\n",
       "        vertical-align: top;\n",
       "    }\n",
       "\n",
       "    .dataframe thead th {\n",
       "        text-align: right;\n",
       "    }\n",
       "</style>\n",
       "<table border=\"1\" class=\"dataframe\">\n",
       "  <thead>\n",
       "    <tr style=\"text-align: right;\">\n",
       "      <th>age_group</th>\n",
       "      <th>17-25</th>\n",
       "      <th>26-48</th>\n",
       "      <th>49-65</th>\n",
       "    </tr>\n",
       "    <tr>\n",
       "      <th>location</th>\n",
       "      <th></th>\n",
       "      <th></th>\n",
       "      <th></th>\n",
       "    </tr>\n",
       "  </thead>\n",
       "  <tbody>\n",
       "    <tr>\n",
       "      <th>City</th>\n",
       "      <td>172</td>\n",
       "      <td>392</td>\n",
       "      <td>119</td>\n",
       "    </tr>\n",
       "    <tr>\n",
       "      <th>Rural</th>\n",
       "      <td>26</td>\n",
       "      <td>46</td>\n",
       "      <td>13</td>\n",
       "    </tr>\n",
       "    <tr>\n",
       "      <th>Suburb</th>\n",
       "      <td>48</td>\n",
       "      <td>129</td>\n",
       "      <td>55</td>\n",
       "    </tr>\n",
       "  </tbody>\n",
       "</table>\n",
       "</div>"
      ],
      "text/plain": [
       "age_group  17-25  26-48  49-65\n",
       "location                      \n",
       "City         172    392    119\n",
       "Rural         26     46     13\n",
       "Suburb        48    129     55"
      ]
     },
     "execution_count": 27,
     "metadata": {},
     "output_type": "execute_result"
    }
   ],
   "source": [
    "location_age_group = df_customer.groupby(['location', 'age_group']).size().unstack()\n",
    "location_age_group"
   ]
  },
  {
   "cell_type": "code",
   "execution_count": 28,
   "id": "a7c7cb1f",
   "metadata": {},
   "outputs": [
    {
     "data": {
      "image/png": "[encoded data removed]",
      "text/plain": [
       "<Figure size 1000x600 with 1 Axes>"
      ]
     },
     "metadata": {},
     "output_type": "display_data"
    }
   ],
   "source": [
    "location_age_group.plot(kind='bar', stacked=True, figsize=(10,6))\n",
    "plt.title('Age Group Distribution by Location')\n",
    "plt.xlabel('Location')\n",
    "plt.ylabel('Number of Customers')\n",
    "plt.legend(title='Age Group')\n",
    "plt.show()"
   ]
  },
  {
   "cell_type": "code",
   "execution_count": 29,
   "id": "204d9427",
   "metadata": {},
   "outputs": [
    {
     "data": {
      "text/html": [
       "<div>\n",
       "<style scoped>\n",
       "    .dataframe tbody tr th:only-of-type {\n",
       "        vertical-align: middle;\n",
       "    }\n",
       "\n",
       "    .dataframe tbody tr th {\n",
       "        vertical-align: top;\n",
       "    }\n",
       "\n",
       "    .dataframe thead th {\n",
       "        text-align: right;\n",
       "    }\n",
       "</style>\n",
       "<table border=\"1\" class=\"dataframe\">\n",
       "  <thead>\n",
       "    <tr style=\"text-align: right;\">\n",
       "      <th>gender</th>\n",
       "      <th>Female</th>\n",
       "      <th>Male</th>\n",
       "    </tr>\n",
       "    <tr>\n",
       "      <th>location</th>\n",
       "      <th></th>\n",
       "      <th></th>\n",
       "    </tr>\n",
       "  </thead>\n",
       "  <tbody>\n",
       "    <tr>\n",
       "      <th>City</th>\n",
       "      <td>226</td>\n",
       "      <td>457</td>\n",
       "    </tr>\n",
       "    <tr>\n",
       "      <th>Rural</th>\n",
       "      <td>26</td>\n",
       "      <td>59</td>\n",
       "    </tr>\n",
       "    <tr>\n",
       "      <th>Suburb</th>\n",
       "      <td>74</td>\n",
       "      <td>158</td>\n",
       "    </tr>\n",
       "  </tbody>\n",
       "</table>\n",
       "</div>"
      ],
      "text/plain": [
       "gender    Female  Male\n",
       "location              \n",
       "City         226   457\n",
       "Rural         26    59\n",
       "Suburb        74   158"
      ]
     },
     "execution_count": 29,
     "metadata": {},
     "output_type": "execute_result"
    }
   ],
   "source": [
    "location_gender_group = df_customer.groupby(['location', 'gender']).size().unstack()\n",
    "location_gender_group\n"
   ]
  },
  {
   "cell_type": "code",
   "execution_count": 30,
   "id": "cf7940b2",
   "metadata": {},
   "outputs": [
    {
     "data": {
      "image/png": "[encoded data removed]",
      "text/plain": [
       "<Figure size 1000x600 with 1 Axes>"
      ]
     },
     "metadata": {},
     "output_type": "display_data"
    }
   ],
   "source": [
    "location_gender_group.plot(kind='bar', stacked=True, figsize=(10,6))\n",
    "plt.title('Gender Distribution by Location')\n",
    "plt.xlabel('Location')\n",
    "plt.ylabel('Number of Customers')\n",
    "plt.legend(title='Gender')\n",
    "plt.show()"
   ]
  },
  {
   "cell_type": "markdown",
   "id": "b5af0cb0",
   "metadata": {},
   "source": [
    "<h2 align=Center> Data Cleaning: Credit Score Table - Part 1 </h2>"
   ]
  },
  {
   "cell_type": "code",
   "execution_count": 31,
   "id": "e67b40e0",
   "metadata": {},
   "outputs": [
    {
     "data": {
      "text/html": [
       "<div>\n",
       "<style scoped>\n",
       "    .dataframe tbody tr th:only-of-type {\n",
       "        vertical-align: middle;\n",
       "    }\n",
       "\n",
       "    .dataframe tbody tr th {\n",
       "        vertical-align: top;\n",
       "    }\n",
       "\n",
       "    .dataframe thead th {\n",
       "        text-align: right;\n",
       "    }\n",
       "</style>\n",
       "<table border=\"1\" class=\"dataframe\">\n",
       "  <thead>\n",
       "    <tr style=\"text-align: right;\">\n",
       "      <th></th>\n",
       "      <th>cust_id</th>\n",
       "      <th>credit_score</th>\n",
       "      <th>credit_utilisation</th>\n",
       "      <th>outstanding_debt</th>\n",
       "      <th>credit_inquiries_last_6_months</th>\n",
       "      <th>credit_limit</th>\n",
       "    </tr>\n",
       "  </thead>\n",
       "  <tbody>\n",
       "    <tr>\n",
       "      <th>0</th>\n",
       "      <td>1</td>\n",
       "      <td>749</td>\n",
       "      <td>0.585171</td>\n",
       "      <td>19571.0</td>\n",
       "      <td>0.0</td>\n",
       "      <td>40000.0</td>\n",
       "    </tr>\n",
       "    <tr>\n",
       "      <th>1</th>\n",
       "      <td>2</td>\n",
       "      <td>587</td>\n",
       "      <td>0.107928</td>\n",
       "      <td>161644.0</td>\n",
       "      <td>2.0</td>\n",
       "      <td>1250.0</td>\n",
       "    </tr>\n",
       "    <tr>\n",
       "      <th>2</th>\n",
       "      <td>3</td>\n",
       "      <td>544</td>\n",
       "      <td>0.854807</td>\n",
       "      <td>513.0</td>\n",
       "      <td>4.0</td>\n",
       "      <td>1000.0</td>\n",
       "    </tr>\n",
       "    <tr>\n",
       "      <th>3</th>\n",
       "      <td>4</td>\n",
       "      <td>504</td>\n",
       "      <td>0.336938</td>\n",
       "      <td>224.0</td>\n",
       "      <td>2.0</td>\n",
       "      <td>1000.0</td>\n",
       "    </tr>\n",
       "    <tr>\n",
       "      <th>4</th>\n",
       "      <td>5</td>\n",
       "      <td>708</td>\n",
       "      <td>0.586151</td>\n",
       "      <td>18090.0</td>\n",
       "      <td>2.0</td>\n",
       "      <td>40000.0</td>\n",
       "    </tr>\n",
       "  </tbody>\n",
       "</table>\n",
       "</div>"
      ],
      "text/plain": [
       "   cust_id  credit_score  credit_utilisation  outstanding_debt  \\\n",
       "0        1           749            0.585171           19571.0   \n",
       "1        2           587            0.107928          161644.0   \n",
       "2        3           544            0.854807             513.0   \n",
       "3        4           504            0.336938             224.0   \n",
       "4        5           708            0.586151           18090.0   \n",
       "\n",
       "   credit_inquiries_last_6_months  credit_limit  \n",
       "0                             0.0       40000.0  \n",
       "1                             2.0        1250.0  \n",
       "2                             4.0        1000.0  \n",
       "3                             2.0        1000.0  \n",
       "4                             2.0       40000.0  "
      ]
     },
     "execution_count": 31,
     "metadata": {},
     "output_type": "execute_result"
    }
   ],
   "source": [
    "df_credit_profile.head()"
   ]
  },
  {
   "cell_type": "code",
   "execution_count": 32,
   "id": "46568bf0",
   "metadata": {},
   "outputs": [
    {
     "data": {
      "text/plain": [
       "(1004, 6)"
      ]
     },
     "execution_count": 32,
     "metadata": {},
     "output_type": "execute_result"
    }
   ],
   "source": [
    "df_credit_profile.shape"
   ]
  },
  {
   "cell_type": "code",
   "execution_count": 34,
   "id": "515478fc",
   "metadata": {},
   "outputs": [
    {
     "data": {
      "text/plain": [
       "(1000, 9)"
      ]
     },
     "execution_count": 34,
     "metadata": {},
     "output_type": "execute_result"
    }
   ],
   "source": [
    "df_customer.shape"
   ]
  },
  {
   "cell_type": "markdown",
   "id": "b38f05c6",
   "metadata": {},
   "source": [
    "<h3>Our input contains 1000 customers, but the credit profiles dataset has 1004 records.</h3>\n",
    "<h3>This indicates the presence of duplicate records.</h3>"
   ]
  },
  {
   "cell_type": "code",
   "execution_count": 35,
   "id": "fa97c21e",
   "metadata": {},
   "outputs": [
    {
     "data": {
      "text/html": [
       "<div>\n",
       "<style scoped>\n",
       "    .dataframe tbody tr th:only-of-type {\n",
       "        vertical-align: middle;\n",
       "    }\n",
       "\n",
       "    .dataframe tbody tr th {\n",
       "        vertical-align: top;\n",
       "    }\n",
       "\n",
       "    .dataframe thead th {\n",
       "        text-align: right;\n",
       "    }\n",
       "</style>\n",
       "<table border=\"1\" class=\"dataframe\">\n",
       "  <thead>\n",
       "    <tr style=\"text-align: right;\">\n",
       "      <th></th>\n",
       "      <th>cust_id</th>\n",
       "      <th>credit_score</th>\n",
       "      <th>credit_utilisation</th>\n",
       "      <th>outstanding_debt</th>\n",
       "      <th>credit_inquiries_last_6_months</th>\n",
       "      <th>credit_limit</th>\n",
       "    </tr>\n",
       "  </thead>\n",
       "  <tbody>\n",
       "    <tr>\n",
       "      <th>516</th>\n",
       "      <td>517</td>\n",
       "      <td>308</td>\n",
       "      <td>NaN</td>\n",
       "      <td>NaN</td>\n",
       "      <td>NaN</td>\n",
       "      <td>NaN</td>\n",
       "    </tr>\n",
       "    <tr>\n",
       "      <th>517</th>\n",
       "      <td>517</td>\n",
       "      <td>308</td>\n",
       "      <td>0.113860</td>\n",
       "      <td>33.0</td>\n",
       "      <td>3.0</td>\n",
       "      <td>500.0</td>\n",
       "    </tr>\n",
       "    <tr>\n",
       "      <th>569</th>\n",
       "      <td>569</td>\n",
       "      <td>344</td>\n",
       "      <td>NaN</td>\n",
       "      <td>NaN</td>\n",
       "      <td>NaN</td>\n",
       "      <td>NaN</td>\n",
       "    </tr>\n",
       "    <tr>\n",
       "      <th>570</th>\n",
       "      <td>569</td>\n",
       "      <td>344</td>\n",
       "      <td>0.112599</td>\n",
       "      <td>37.0</td>\n",
       "      <td>0.0</td>\n",
       "      <td>500.0</td>\n",
       "    </tr>\n",
       "    <tr>\n",
       "      <th>607</th>\n",
       "      <td>606</td>\n",
       "      <td>734</td>\n",
       "      <td>NaN</td>\n",
       "      <td>NaN</td>\n",
       "      <td>NaN</td>\n",
       "      <td>NaN</td>\n",
       "    </tr>\n",
       "    <tr>\n",
       "      <th>608</th>\n",
       "      <td>606</td>\n",
       "      <td>734</td>\n",
       "      <td>0.193418</td>\n",
       "      <td>4392.0</td>\n",
       "      <td>1.0</td>\n",
       "      <td>40000.0</td>\n",
       "    </tr>\n",
       "    <tr>\n",
       "      <th>664</th>\n",
       "      <td>662</td>\n",
       "      <td>442</td>\n",
       "      <td>NaN</td>\n",
       "      <td>NaN</td>\n",
       "      <td>NaN</td>\n",
       "      <td>NaN</td>\n",
       "    </tr>\n",
       "    <tr>\n",
       "      <th>665</th>\n",
       "      <td>662</td>\n",
       "      <td>442</td>\n",
       "      <td>0.856039</td>\n",
       "      <td>266.0</td>\n",
       "      <td>2.0</td>\n",
       "      <td>500.0</td>\n",
       "    </tr>\n",
       "  </tbody>\n",
       "</table>\n",
       "</div>"
      ],
      "text/plain": [
       "     cust_id  credit_score  credit_utilisation  outstanding_debt  \\\n",
       "516      517           308                 NaN               NaN   \n",
       "517      517           308            0.113860              33.0   \n",
       "569      569           344                 NaN               NaN   \n",
       "570      569           344            0.112599              37.0   \n",
       "607      606           734                 NaN               NaN   \n",
       "608      606           734            0.193418            4392.0   \n",
       "664      662           442                 NaN               NaN   \n",
       "665      662           442            0.856039             266.0   \n",
       "\n",
       "     credit_inquiries_last_6_months  credit_limit  \n",
       "516                             NaN           NaN  \n",
       "517                             3.0         500.0  \n",
       "569                             NaN           NaN  \n",
       "570                             0.0         500.0  \n",
       "607                             NaN           NaN  \n",
       "608                             1.0       40000.0  \n",
       "664                             NaN           NaN  \n",
       "665                             2.0         500.0  "
      ]
     },
     "execution_count": 35,
     "metadata": {},
     "output_type": "execute_result"
    }
   ],
   "source": [
    "df_credit_profile[df_credit_profile['cust_id'].duplicated(keep=False)]"
   ]
  },
  {
   "cell_type": "code",
   "execution_count": 36,
   "id": "30976d6b",
   "metadata": {},
   "outputs": [
    {
     "data": {
      "text/plain": [
       "(1000, 6)"
      ]
     },
     "execution_count": 36,
     "metadata": {},
     "output_type": "execute_result"
    }
   ],
   "source": [
    "df_credit_profile = df_credit_profile.drop_duplicates(subset=['cust_id'], keep='last')\n",
    "df_credit_profile.shape"
   ]
  },
  {
   "cell_type": "markdown",
   "id": "75a61434",
   "metadata": {},
   "source": [
    "<h2 align=Center> Handel NULL values from Credit profiles Dataset </h2>"
   ]
  },
  {
   "cell_type": "code",
   "execution_count": 37,
   "id": "fb7a05af",
   "metadata": {},
   "outputs": [
    {
     "data": {
      "text/plain": [
       "cust_id                            0\n",
       "credit_score                       0\n",
       "credit_utilisation                 0\n",
       "outstanding_debt                   0\n",
       "credit_inquiries_last_6_months     0\n",
       "credit_limit                      65\n",
       "dtype: int64"
      ]
     },
     "execution_count": 37,
     "metadata": {},
     "output_type": "execute_result"
    }
   ],
   "source": [
    "df_credit_profile.isnull().sum()"
   ]
  },
  {
   "cell_type": "code",
   "execution_count": 38,
   "id": "46e74dcf",
   "metadata": {},
   "outputs": [
    {
     "data": {
      "text/html": [
       "<div>\n",
       "<style scoped>\n",
       "    .dataframe tbody tr th:only-of-type {\n",
       "        vertical-align: middle;\n",
       "    }\n",
       "\n",
       "    .dataframe tbody tr th {\n",
       "        vertical-align: top;\n",
       "    }\n",
       "\n",
       "    .dataframe thead th {\n",
       "        text-align: right;\n",
       "    }\n",
       "</style>\n",
       "<table border=\"1\" class=\"dataframe\">\n",
       "  <thead>\n",
       "    <tr style=\"text-align: right;\">\n",
       "      <th></th>\n",
       "      <th>cust_id</th>\n",
       "      <th>credit_score</th>\n",
       "      <th>credit_utilisation</th>\n",
       "      <th>outstanding_debt</th>\n",
       "      <th>credit_inquiries_last_6_months</th>\n",
       "      <th>credit_limit</th>\n",
       "    </tr>\n",
       "  </thead>\n",
       "  <tbody>\n",
       "    <tr>\n",
       "      <th>10</th>\n",
       "      <td>11</td>\n",
       "      <td>679</td>\n",
       "      <td>0.557450</td>\n",
       "      <td>9187.0</td>\n",
       "      <td>2.0</td>\n",
       "      <td>NaN</td>\n",
       "    </tr>\n",
       "    <tr>\n",
       "      <th>35</th>\n",
       "      <td>36</td>\n",
       "      <td>790</td>\n",
       "      <td>0.112535</td>\n",
       "      <td>4261.0</td>\n",
       "      <td>1.0</td>\n",
       "      <td>NaN</td>\n",
       "    </tr>\n",
       "    <tr>\n",
       "      <th>37</th>\n",
       "      <td>38</td>\n",
       "      <td>514</td>\n",
       "      <td>0.296971</td>\n",
       "      <td>238.0</td>\n",
       "      <td>2.0</td>\n",
       "      <td>NaN</td>\n",
       "    </tr>\n",
       "    <tr>\n",
       "      <th>45</th>\n",
       "      <td>46</td>\n",
       "      <td>761</td>\n",
       "      <td>0.596041</td>\n",
       "      <td>24234.0</td>\n",
       "      <td>2.0</td>\n",
       "      <td>NaN</td>\n",
       "    </tr>\n",
       "    <tr>\n",
       "      <th>64</th>\n",
       "      <td>65</td>\n",
       "      <td>734</td>\n",
       "      <td>0.473715</td>\n",
       "      <td>13631.0</td>\n",
       "      <td>0.0</td>\n",
       "      <td>NaN</td>\n",
       "    </tr>\n",
       "    <tr>\n",
       "      <th>...</th>\n",
       "      <td>...</td>\n",
       "      <td>...</td>\n",
       "      <td>...</td>\n",
       "      <td>...</td>\n",
       "      <td>...</td>\n",
       "      <td>...</td>\n",
       "    </tr>\n",
       "    <tr>\n",
       "      <th>912</th>\n",
       "      <td>909</td>\n",
       "      <td>479</td>\n",
       "      <td>0.487555</td>\n",
       "      <td>320.0</td>\n",
       "      <td>3.0</td>\n",
       "      <td>NaN</td>\n",
       "    </tr>\n",
       "    <tr>\n",
       "      <th>931</th>\n",
       "      <td>928</td>\n",
       "      <td>311</td>\n",
       "      <td>0.832244</td>\n",
       "      <td>316.0</td>\n",
       "      <td>2.0</td>\n",
       "      <td>NaN</td>\n",
       "    </tr>\n",
       "    <tr>\n",
       "      <th>948</th>\n",
       "      <td>945</td>\n",
       "      <td>526</td>\n",
       "      <td>0.272734</td>\n",
       "      <td>227.0</td>\n",
       "      <td>1.0</td>\n",
       "      <td>NaN</td>\n",
       "    </tr>\n",
       "    <tr>\n",
       "      <th>954</th>\n",
       "      <td>951</td>\n",
       "      <td>513</td>\n",
       "      <td>0.175914</td>\n",
       "      <td>131.0</td>\n",
       "      <td>3.0</td>\n",
       "      <td>NaN</td>\n",
       "    </tr>\n",
       "    <tr>\n",
       "      <th>957</th>\n",
       "      <td>954</td>\n",
       "      <td>783</td>\n",
       "      <td>0.867421</td>\n",
       "      <td>46451.0</td>\n",
       "      <td>0.0</td>\n",
       "      <td>NaN</td>\n",
       "    </tr>\n",
       "  </tbody>\n",
       "</table>\n",
       "<p>65 rows × 6 columns</p>\n",
       "</div>"
      ],
      "text/plain": [
       "     cust_id  credit_score  credit_utilisation  outstanding_debt  \\\n",
       "10        11           679            0.557450            9187.0   \n",
       "35        36           790            0.112535            4261.0   \n",
       "37        38           514            0.296971             238.0   \n",
       "45        46           761            0.596041           24234.0   \n",
       "64        65           734            0.473715           13631.0   \n",
       "..       ...           ...                 ...               ...   \n",
       "912      909           479            0.487555             320.0   \n",
       "931      928           311            0.832244             316.0   \n",
       "948      945           526            0.272734             227.0   \n",
       "954      951           513            0.175914             131.0   \n",
       "957      954           783            0.867421           46451.0   \n",
       "\n",
       "     credit_inquiries_last_6_months  credit_limit  \n",
       "10                              2.0           NaN  \n",
       "35                              1.0           NaN  \n",
       "37                              2.0           NaN  \n",
       "45                              2.0           NaN  \n",
       "64                              0.0           NaN  \n",
       "..                              ...           ...  \n",
       "912                             3.0           NaN  \n",
       "931                             2.0           NaN  \n",
       "948                             1.0           NaN  \n",
       "954                             3.0           NaN  \n",
       "957                             0.0           NaN  \n",
       "\n",
       "[65 rows x 6 columns]"
      ]
     },
     "execution_count": 38,
     "metadata": {},
     "output_type": "execute_result"
    }
   ],
   "source": [
    "df_credit_profile[df_credit_profile['credit_limit'].isnull()]"
   ]
  },
  {
   "cell_type": "code",
   "execution_count": 39,
   "id": "6dbd6387",
   "metadata": {},
   "outputs": [
    {
     "data": {
      "text/plain": [
       "credit_limit\n",
       "500.0      229\n",
       "60000.0    186\n",
       "40000.0    137\n",
       "1500.0     100\n",
       "1000.0      90\n",
       "750.0       76\n",
       "1250.0      75\n",
       "20000.0     42\n",
       "Name: count, dtype: int64"
      ]
     },
     "execution_count": 39,
     "metadata": {},
     "output_type": "execute_result"
    }
   ],
   "source": [
    "df_credit_profile['credit_limit'].value_counts()"
   ]
  },
  {
   "cell_type": "code",
   "execution_count": 41,
   "id": "056684b0",
   "metadata": {},
   "outputs": [
    {
     "data": {
      "image/png": "[encoded data removed]",
      "text/plain": [
       "<Figure size 1000x600 with 1 Axes>"
      ]
     },
     "metadata": {},
     "output_type": "display_data"
    }
   ],
   "source": [
    "plt.figure(figsize=(10,6))\n",
    "sns.scatterplot(data=df_credit_profile, x='credit_limit', y='credit_score')\n",
    "plt.title('Credit Limit vs Credit Score')\n",
    "plt.xlabel('Credit Limit')\n",
    "plt.ylabel('Credit Score')\n",
    "plt.grid(True)\n",
    "plt.show()"
   ]
  },
  {
   "cell_type": "markdown",
   "id": "28410533",
   "metadata": {},
   "source": [
    "<h3> We observed a range of credit scores, so we are adding a new column to the DataFrame to represent credit score ranges. </h3>"
   ]
  },
  {
   "cell_type": "code",
   "execution_count": 43,
   "id": "bece2ae4",
   "metadata": {},
   "outputs": [
    {
     "data": {
      "text/html": [
       "<div>\n",
       "<style scoped>\n",
       "    .dataframe tbody tr th:only-of-type {\n",
       "        vertical-align: middle;\n",
       "    }\n",
       "\n",
       "    .dataframe tbody tr th {\n",
       "        vertical-align: top;\n",
       "    }\n",
       "\n",
       "    .dataframe thead th {\n",
       "        text-align: right;\n",
       "    }\n",
       "</style>\n",
       "<table border=\"1\" class=\"dataframe\">\n",
       "  <thead>\n",
       "    <tr style=\"text-align: right;\">\n",
       "      <th></th>\n",
       "      <th>cust_id</th>\n",
       "      <th>credit_score</th>\n",
       "      <th>credit_utilisation</th>\n",
       "      <th>outstanding_debt</th>\n",
       "      <th>credit_inquiries_last_6_months</th>\n",
       "      <th>credit_limit</th>\n",
       "      <th>credit_score_range</th>\n",
       "    </tr>\n",
       "  </thead>\n",
       "  <tbody>\n",
       "    <tr>\n",
       "      <th>0</th>\n",
       "      <td>1</td>\n",
       "      <td>749</td>\n",
       "      <td>0.585171</td>\n",
       "      <td>19571.0</td>\n",
       "      <td>0.0</td>\n",
       "      <td>40000.0</td>\n",
       "      <td>700-749</td>\n",
       "    </tr>\n",
       "    <tr>\n",
       "      <th>1</th>\n",
       "      <td>2</td>\n",
       "      <td>587</td>\n",
       "      <td>0.107928</td>\n",
       "      <td>161644.0</td>\n",
       "      <td>2.0</td>\n",
       "      <td>1250.0</td>\n",
       "      <td>550-599</td>\n",
       "    </tr>\n",
       "    <tr>\n",
       "      <th>2</th>\n",
       "      <td>3</td>\n",
       "      <td>544</td>\n",
       "      <td>0.854807</td>\n",
       "      <td>513.0</td>\n",
       "      <td>4.0</td>\n",
       "      <td>1000.0</td>\n",
       "      <td>500-549</td>\n",
       "    </tr>\n",
       "    <tr>\n",
       "      <th>3</th>\n",
       "      <td>4</td>\n",
       "      <td>504</td>\n",
       "      <td>0.336938</td>\n",
       "      <td>224.0</td>\n",
       "      <td>2.0</td>\n",
       "      <td>1000.0</td>\n",
       "      <td>500-549</td>\n",
       "    </tr>\n",
       "    <tr>\n",
       "      <th>4</th>\n",
       "      <td>5</td>\n",
       "      <td>708</td>\n",
       "      <td>0.586151</td>\n",
       "      <td>18090.0</td>\n",
       "      <td>2.0</td>\n",
       "      <td>40000.0</td>\n",
       "      <td>700-749</td>\n",
       "    </tr>\n",
       "  </tbody>\n",
       "</table>\n",
       "</div>"
      ],
      "text/plain": [
       "   cust_id  credit_score  credit_utilisation  outstanding_debt  \\\n",
       "0        1           749            0.585171           19571.0   \n",
       "1        2           587            0.107928          161644.0   \n",
       "2        3           544            0.854807             513.0   \n",
       "3        4           504            0.336938             224.0   \n",
       "4        5           708            0.586151           18090.0   \n",
       "\n",
       "   credit_inquiries_last_6_months  credit_limit credit_score_range  \n",
       "0                             0.0       40000.0            700-749  \n",
       "1                             2.0        1250.0            550-599  \n",
       "2                             4.0        1000.0            500-549  \n",
       "3                             2.0        1000.0            500-549  \n",
       "4                             2.0       40000.0            700-749  "
      ]
     },
     "execution_count": 43,
     "metadata": {},
     "output_type": "execute_result"
    }
   ],
   "source": [
    "bin_range = [300, 450, 500, 550, 600, 650, 700, 750, 800]\n",
    "\n",
    "bin_labels = [f'{start}-{end-1}' for start, end in zip(bin_range, bin_range[1:])]\n",
    "\n",
    "df_credit_profile['credit_score_range'] = pd.cut(df_credit_profile['credit_score'], \n",
    "                                                 bins=bin_range, labels=bin_labels, right=False, include_lowest=True)\n",
    "\n",
    "df_credit_profile.head()"
   ]
  },
  {
   "cell_type": "markdown",
   "id": "421d52b4",
   "metadata": {},
   "source": [
    "<h3> We derived the credit_score_range column and used mode() in groupby to capture the most frequently occurring credit score within each group. </h3>"
   ]
  },
  {
   "cell_type": "code",
   "execution_count": 46,
   "id": "983b68d6",
   "metadata": {},
   "outputs": [
    {
     "data": {
      "text/plain": [
       "credit_score_range\n",
       "300-449      500.0\n",
       "450-499      750.0\n",
       "500-549     1000.0\n",
       "550-599     1250.0\n",
       "600-649     1500.0\n",
       "650-699    20000.0\n",
       "700-749    40000.0\n",
       "750-799    60000.0\n",
       "Name: credit_limit, dtype: float64"
      ]
     },
     "execution_count": 46,
     "metadata": {},
     "output_type": "execute_result"
    }
   ],
   "source": [
    "group_credit_limit_range = df_credit_profile.groupby('credit_score_range')['credit_limit'].agg(lambda x: x.mode().iloc[0])\n",
    "group_credit_limit_range"
   ]
  },
  {
   "cell_type": "markdown",
   "id": "e5c5e3a2",
   "metadata": {},
   "source": [
    "<h3>Replace NULL values in credit_limit with the corresponding group value from credit_score_range</h3>"
   ]
  },
  {
   "cell_type": "code",
   "execution_count": 47,
   "id": "cf8666d3",
   "metadata": {},
   "outputs": [],
   "source": [
    "df_credit_profile['credit_limit'] = df_credit_profile.apply(lambda row: group_credit_limit_range[row['credit_score_range']] \n",
    "                                                            if pd.isnull(row['credit_limit']) else row['credit_limit'], axis=1)"
   ]
  },
  {
   "cell_type": "code",
   "execution_count": 48,
   "id": "8c714556",
   "metadata": {},
   "outputs": [
    {
     "data": {
      "text/plain": [
       "cust_id                           0\n",
       "credit_score                      0\n",
       "credit_utilisation                0\n",
       "outstanding_debt                  0\n",
       "credit_inquiries_last_6_months    0\n",
       "credit_limit                      0\n",
       "credit_score_range                0\n",
       "dtype: int64"
      ]
     },
     "execution_count": 48,
     "metadata": {},
     "output_type": "execute_result"
    }
   ],
   "source": [
    "df_credit_profile.isnull().sum()"
   ]
  },
  {
   "cell_type": "code",
   "execution_count": 49,
   "id": "78b8269b",
   "metadata": {},
   "outputs": [
    {
     "data": {
      "text/html": [
       "<div>\n",
       "<style scoped>\n",
       "    .dataframe tbody tr th:only-of-type {\n",
       "        vertical-align: middle;\n",
       "    }\n",
       "\n",
       "    .dataframe tbody tr th {\n",
       "        vertical-align: top;\n",
       "    }\n",
       "\n",
       "    .dataframe thead th {\n",
       "        text-align: right;\n",
       "    }\n",
       "</style>\n",
       "<table border=\"1\" class=\"dataframe\">\n",
       "  <thead>\n",
       "    <tr style=\"text-align: right;\">\n",
       "      <th></th>\n",
       "      <th>cust_id</th>\n",
       "      <th>credit_score</th>\n",
       "      <th>credit_utilisation</th>\n",
       "      <th>outstanding_debt</th>\n",
       "      <th>credit_inquiries_last_6_months</th>\n",
       "      <th>credit_limit</th>\n",
       "      <th>credit_score_range</th>\n",
       "    </tr>\n",
       "  </thead>\n",
       "  <tbody>\n",
       "  </tbody>\n",
       "</table>\n",
       "</div>"
      ],
      "text/plain": [
       "Empty DataFrame\n",
       "Columns: [cust_id, credit_score, credit_utilisation, outstanding_debt, credit_inquiries_last_6_months, credit_limit, credit_score_range]\n",
       "Index: []"
      ]
     },
     "execution_count": 49,
     "metadata": {},
     "output_type": "execute_result"
    }
   ],
   "source": [
    "df_credit_profile[df_credit_profile['credit_limit'].isnull()]"
   ]
  },
  {
   "cell_type": "code",
   "execution_count": null,
   "id": "8f8effde",
   "metadata": {},
   "outputs": [],
   "source": []
  }
 ],
 "metadata": {
  "kernelspec": {
   "display_name": "Python 3",
   "language": "python",
   "name": "python3"
  },
  "language_info": {
   "codemirror_mode": {
    "name": "ipython",
    "version": 3
   },
   "file_extension": ".py",
   "mimetype": "text/x-python",
   "name": "python",
   "nbconvert_exporter": "python",
   "pygments_lexer": "ipython3",
   "version": "3.12.8"
  }
 },
 "nbformat": 4,
 "nbformat_minor": 5
}
