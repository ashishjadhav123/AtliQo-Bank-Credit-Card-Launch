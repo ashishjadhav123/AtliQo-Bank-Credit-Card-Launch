{
 "cells": [
  {
   "cell_type": "markdown",
   "id": "677e5238",
   "metadata": {},
   "source": [
    "<h2 align=\"center\" style=\"color:purple\">Phase 2: AtliQ0 Bank Credit Card Project</h2>"
   ]
  },
  {
   "cell_type": "markdown",
   "id": "a5afe059",
   "metadata": {},
   "source": [
    "### Business Analysis and launch of AB testing: Targeting Untapped Market\n",
    "\n",
    "### Insights specific to customers with age group of 18 - 25\n",
    "1. People with age group of 18 -25 accounts to ~25% of customer base in the data\n",
    "2. Avg annual income of this age group is less than 50k\n",
    "3. They don't have much credit history which is getting reflected in their credit score and max credit limit \n",
    "4. Usage of credit cards as payment type is relatively low compared to other groups\n",
    "5. Avg transaction amount made with credit cards is also low compared to other groups\n",
    "5. Top 3 most used shopping products categories  : Electronics, Fashion & Apparel, Beauty & Personal care"
   ]
  },
  {
   "cell_type": "markdown",
   "id": "7de32410",
   "metadata": {},
   "source": [
    "## (1) Pre-Campaign\n",
    "\n",
    "We want to do a trial run for our new credit card. For this we need to figure out (1) How many customers do we need for our A/B testing. We will form a control and test group. For both of these groups we can figure out number of customers we need based on the statistical power and effect size that we agree upon after discussing with business. We will use "
   ]
  },
  {
   "cell_type": "code",
   "execution_count": 1,
   "id": "68e17673",
   "metadata": {},
   "outputs": [],
   "source": [
    "import statsmodels.stats.api as sms\n",
    "import statsmodels.api as sm\n",
    "\n",
    "import pandas as pd\n",
    "import numpy as np\n",
    "from scipy import stats as st\n",
    "from matplotlib import pyplot as plt\n",
    "import seaborn as sns"
   ]
  },
  {
   "cell_type": "code",
   "execution_count": 2,
   "id": "fc60b2e8",
   "metadata": {},
   "outputs": [],
   "source": [
    "alpha = 0.05\n",
    "power = 0.8\n",
    "effect_size = 0.2"
   ]
  },
  {
   "cell_type": "code",
   "execution_count": 3,
   "id": "f0a0f7b3",
   "metadata": {},
   "outputs": [
    {
     "data": {
      "text/plain": [
       "393.40569300025135"
      ]
     },
     "execution_count": 3,
     "metadata": {},
     "output_type": "execute_result"
    }
   ],
   "source": [
    "sms.tt_ind_solve_power(effect_size=effect_size, alpha=alpha, power=power, ratio=1, alternative='two-sided')"
   ]
  },
  {
   "cell_type": "markdown",
   "id": "8633bf20",
   "metadata": {},
   "source": [
    "For effect size 2 we need 393 customers. We have to keep in mind budgeting restrictions while running this campaign hence let us run this for different effect sizes and discuss with business to find out which sample size would be optimal"
   ]
  },
  {
   "cell_type": "code",
   "execution_count": 4,
   "id": "b286c8cb",
   "metadata": {},
   "outputs": [
    {
     "name": "stdout",
     "output_type": "stream",
     "text": [
      "Effect Size: 0.1, Required Sample Size per Group: 1570.73\n",
      "Effect Size: 0.2, Required Sample Size per Group: 393.41\n",
      "Effect Size: 0.3, Required Sample Size per Group: 175.38\n",
      "Effect Size: 0.4, Required Sample Size per Group: 99.08\n",
      "Effect Size: 0.5, Required Sample Size per Group: 63.77\n",
      "Effect Size: 1, Required Sample Size per Group: 16.71\n"
     ]
    }
   ],
   "source": [
    "# Calculate the required sample size for different effect sizes\n",
    "effect_sizes = [0.1, 0.2, 0.3, 0.4, 0.5,1]  #  standard deviations greater than control group \n",
    "\n",
    "for effect_size in effect_sizes:\n",
    "    sample_size = sms.tt_ind_solve_power(effect_size=effect_size, alpha=alpha, power=power, ratio=1, alternative='two-sided')\n",
    "    print(f\"Effect Size: {effect_size}, Required Sample Size per Group: {sample_size:.2f}\")"
   ]
  },
  {
   "cell_type": "markdown",
   "id": "ae4fa041",
   "metadata": {},
   "source": [
    "Based on business requirements, the test should be capable of detecting a minimum 0.4 standard deviation difference between the control and test groups. For the effect size 0.4, we need 100 customers and when we discussed with business, 100 customers is ok in terms of their budgeting constraints for this trail run"
   ]
  },
  {
   "cell_type": "markdown",
   "id": "58343b53",
   "metadata": {},
   "source": [
    "#### Forming control and test groups\n",
    "\n",
    "1.We have identified approximately 246 customers within the age group of 18 to 25. From this pool, we will select 100 customers for the initial campaign launch.\n",
    "\n",
    "2.The campaign is launched for 100 customers, as determined by the effective size calculation and by considering budgeting costs, and will run campaign for a duration of 2 months\n",
    "\n",
    "3.Got a conversion rate of ~40% ( implies 40 out of 100 customers in test group started using credit card)\n",
    "\n",
    "4.To maintain a similar sample size, a control group consisting of 40 customers will be created. Importantly, this control group will be completely exclusive of initial 100 customers used as test group.\n",
    "\n",
    "5.So now we have 40 customers in each of control and test groups"
   ]
  },
  {
   "cell_type": "markdown",
   "id": "e54efed5",
   "metadata": {},
   "source": [
    "##### At the end of the 2-month campaign period (from 09-10-23 to 11-10-23), we obtained daily data showing the average transaction amounts made by the entire group of 40 customers in both the control and test groups using existing and newly launched credit cards respectively\n",
    "\n",
    "##### The key performance indicator (KPI) for this AB test aims to enhance average transaction amounts facilitated by the new card"
   ]
  },
  {
   "cell_type": "markdown",
   "id": "7f7f2c4d",
   "metadata": {},
   "source": [
    "## (2) Post-Campaign"
   ]
  },
  {
   "cell_type": "markdown",
   "id": "d1b04a1c",
   "metadata": {},
   "source": [
    "## Two Sample Z Test for Our Hypothesis Testing"
   ]
  },
  {
   "cell_type": "code",
   "execution_count": 5,
   "id": "e0ff1286",
   "metadata": {},
   "outputs": [
    {
     "data": {
      "text/html": [
       "<div>\n",
       "<style scoped>\n",
       "    .dataframe tbody tr th:only-of-type {\n",
       "        vertical-align: middle;\n",
       "    }\n",
       "\n",
       "    .dataframe tbody tr th {\n",
       "        vertical-align: top;\n",
       "    }\n",
       "\n",
       "    .dataframe thead th {\n",
       "        text-align: right;\n",
       "    }\n",
       "</style>\n",
       "<table border=\"1\" class=\"dataframe\">\n",
       "  <thead>\n",
       "    <tr style=\"text-align: right;\">\n",
       "      <th></th>\n",
       "      <th>campaign_date</th>\n",
       "      <th>control_group_avg_tran</th>\n",
       "      <th>test_group_avg_tran</th>\n",
       "    </tr>\n",
       "  </thead>\n",
       "  <tbody>\n",
       "    <tr>\n",
       "      <th>0</th>\n",
       "      <td>2023-09-10</td>\n",
       "      <td>259.83</td>\n",
       "      <td>277.32</td>\n",
       "    </tr>\n",
       "    <tr>\n",
       "      <th>1</th>\n",
       "      <td>2023-09-11</td>\n",
       "      <td>191.27</td>\n",
       "      <td>248.68</td>\n",
       "    </tr>\n",
       "    <tr>\n",
       "      <th>2</th>\n",
       "      <td>2023-09-12</td>\n",
       "      <td>212.41</td>\n",
       "      <td>286.61</td>\n",
       "    </tr>\n",
       "    <tr>\n",
       "      <th>3</th>\n",
       "      <td>2023-09-13</td>\n",
       "      <td>214.92</td>\n",
       "      <td>214.85</td>\n",
       "    </tr>\n",
       "    <tr>\n",
       "      <th>4</th>\n",
       "      <td>2023-09-14</td>\n",
       "      <td>158.55</td>\n",
       "      <td>344.08</td>\n",
       "    </tr>\n",
       "  </tbody>\n",
       "</table>\n",
       "</div>"
      ],
      "text/plain": [
       "  campaign_date  control_group_avg_tran  test_group_avg_tran\n",
       "0    2023-09-10                  259.83               277.32\n",
       "1    2023-09-11                  191.27               248.68\n",
       "2    2023-09-12                  212.41               286.61\n",
       "3    2023-09-13                  214.92               214.85\n",
       "4    2023-09-14                  158.55               344.08"
      ]
     },
     "execution_count": 5,
     "metadata": {},
     "output_type": "execute_result"
    }
   ],
   "source": [
    "df_input = pd.read_csv(r\"D:\\Ashish Doc\\Ashish\\Data Science\\AtliQo-Bank-Credit-Card-Launch\\Input\\Phase_2_Data\\avg_transactions_after_campaign.csv\")\n",
    "\n",
    "df_input.head()"
   ]
  },
  {
   "cell_type": "code",
   "execution_count": 6,
   "id": "5ff1f928",
   "metadata": {},
   "outputs": [
    {
     "data": {
      "text/plain": [
       "(62, 3)"
      ]
     },
     "execution_count": 6,
     "metadata": {},
     "output_type": "execute_result"
    }
   ],
   "source": [
    "df_input.shape"
   ]
  },
  {
   "cell_type": "code",
   "execution_count": 7,
   "id": "d50ff65e",
   "metadata": {},
   "outputs": [
    {
     "data": {
      "image/png": "[encoded data removed]",
      "text/plain": [
       "<Figure size 1400x600 with 2 Axes>"
      ]
     },
     "metadata": {},
     "output_type": "display_data"
    }
   ],
   "source": [
    "# Let's look at distributions of avg transactions amounts in both groups\n",
    "# Create a 1x2 grid of subplots\n",
    "\n",
    "fig, axes = plt.subplots(1, 2, figsize=(14, 6))\n",
    "# Plot histogram for Control Group\n",
    "sns.histplot(df_input['control_group_avg_tran'], bins=30, kde=True, color='blue', ax=axes[0])\n",
    "axes[0].set_title('Control Group Average Transactions')\n",
    "axes[0].set_xlabel('Control Average Transactions')\n",
    "axes[0].set_ylabel('Frequency')\n",
    "\n",
    "# Plot histogram for Test Group\n",
    "sns.histplot(df_input['test_group_avg_tran'], bins=30, kde=True, color='orange', ax=axes[1])\n",
    "axes[1].set_title('Test Group Average Transactions')\n",
    "axes[1].set_xlabel('Test Average Transactions')\n",
    "axes[1].set_ylabel('Frequency')\n",
    "\n",
    "plt.tight_layout()\n",
    "plt.show()"
   ]
  },
  {
   "cell_type": "markdown",
   "id": "bc350493",
   "metadata": {},
   "source": [
    "#### Perform Hypothesis Testing Using Two Sample Z-test"
   ]
  },
  {
   "cell_type": "code",
   "execution_count": 8,
   "id": "c223e17a",
   "metadata": {},
   "outputs": [
    {
     "name": "stdout",
     "output_type": "stream",
     "text": [
      "Control Group - Mean: 221.1751612903226, Std Dev: 21.35919211202701\n"
     ]
    }
   ],
   "source": [
    "control_mean = df_input['control_group_avg_tran'].mean()\n",
    "control_std = df_input['control_group_avg_tran'].std()\n",
    "\n",
    "print(f\"Control Group - Mean: {control_mean}, Std Dev: {control_std}\")"
   ]
  },
  {
   "cell_type": "code",
   "execution_count": 9,
   "id": "a913c248",
   "metadata": {},
   "outputs": [
    {
     "name": "stdout",
     "output_type": "stream",
     "text": [
      "Test Group - Mean: 235.9835483870968, Std Dev: 36.658082109186374\n"
     ]
    }
   ],
   "source": [
    "test_mean = df_input['test_group_avg_tran'].mean()\n",
    "test_std = df_input['test_group_avg_tran'].std()\n",
    "\n",
    "print(f\"Test Group - Mean: {test_mean}, Std Dev: {test_std}\")"
   ]
  },
  {
   "cell_type": "code",
   "execution_count": 10,
   "id": "e684c886",
   "metadata": {},
   "outputs": [
    {
     "name": "stdout",
     "output_type": "stream",
     "text": [
      "Sample Size per Group: 62\n"
     ]
    }
   ],
   "source": [
    "sample_size = df_input.shape[0]\n",
    "\n",
    "print(f\"Sample Size per Group: {sample_size}\")"
   ]
  },
  {
   "cell_type": "code",
   "execution_count": 11,
   "id": "9434aa55",
   "metadata": {},
   "outputs": [
    {
     "name": "stdout",
     "output_type": "stream",
     "text": [
      "Z-Score: 2.748297374569113\n"
     ]
    }
   ],
   "source": [
    "a = control_std**2 / sample_size\n",
    "b = test_std**2 / sample_size\n",
    "\n",
    "z_score = (test_mean - control_mean) / np.sqrt(a + b)\n",
    "\n",
    "print(f\"Z-Score: {z_score}\")"
   ]
  },
  {
   "cell_type": "code",
   "execution_count": 12,
   "id": "209b3e19",
   "metadata": {},
   "outputs": [
    {
     "name": "stdout",
     "output_type": "stream",
     "text": [
      "Critical Z-Value for alpha=0.05: 1.6448536269514722\n"
     ]
    }
   ],
   "source": [
    "z_critical = st.norm.ppf(1 - alpha)  # right-tailed test\n",
    "\n",
    "print(f\"Critical Z-Value for alpha={alpha}: {z_critical}\")"
   ]
  },
  {
   "cell_type": "code",
   "execution_count": 13,
   "id": "3f93abdd",
   "metadata": {},
   "outputs": [
    {
     "name": "stdout",
     "output_type": "stream",
     "text": [
      "Reject the null hypothesis: Significant difference found.\n"
     ]
    }
   ],
   "source": [
    "if z_score > z_critical:\n",
    "    print(\"Reject the null hypothesis: Significant difference found.\")\n",
    "else:\n",
    "    print(\"Fail to reject the null hypothesis: No significant difference found.\")\n"
   ]
  },
  {
   "cell_type": "code",
   "execution_count": 14,
   "id": "c85abe6f",
   "metadata": {},
   "outputs": [
    {
     "name": "stdout",
     "output_type": "stream",
     "text": [
      "P-Value: 0.0029952824622024865\n"
     ]
    }
   ],
   "source": [
    "p_value = 1 - st.norm.cdf(z_score)  # right-tailed test\n",
    "print(f\"P-Value: {p_value}\")"
   ]
  },
  {
   "cell_type": "code",
   "execution_count": 15,
   "id": "363fea9a",
   "metadata": {},
   "outputs": [
    {
     "name": "stdout",
     "output_type": "stream",
     "text": [
      "Reject the null hypothesis: Significant difference found.\n"
     ]
    }
   ],
   "source": [
    "if p_value < alpha:\n",
    "    print(\"Reject the null hypothesis: Significant difference found.\")\n",
    "else:\n",
    "    print(\"Fail to reject the null hypothesis: No significant difference found.\")\n"
   ]
  },
  {
   "cell_type": "code",
   "execution_count": 16,
   "id": "d6ebd150",
   "metadata": {},
   "outputs": [
    {
     "data": {
      "text/plain": [
       "(np.float64(2.7482973745691135), np.float64(0.002995282462202502))"
      ]
     },
     "execution_count": 16,
     "metadata": {},
     "output_type": "execute_result"
    }
   ],
   "source": [
    "# Performing Z-test using statsmodels\n",
    "z_statistic, p_value = sm.stats.ztest( df_input['test_group_avg_tran'],df_input['control_group_avg_tran'],alternative = 'larger')\n",
    "z_statistic, p_value"
   ]
  },
  {
   "cell_type": "code",
   "execution_count": 17,
   "id": "332bf119",
   "metadata": {},
   "outputs": [
    {
     "name": "stdout",
     "output_type": "stream",
     "text": [
      "Reject the null hypothesis: Significant difference found.\n"
     ]
    }
   ],
   "source": [
    "if z_statistic > z_critical:\n",
    "    print(\"Reject the null hypothesis: Significant difference found.\")\n",
    "else:\n",
    "    print(\"Fail to reject the null hypothesis: No significant difference found.\")"
   ]
  },
  {
   "cell_type": "code",
   "execution_count": 18,
   "id": "6d0b9674",
   "metadata": {},
   "outputs": [
    {
     "name": "stdout",
     "output_type": "stream",
     "text": [
      "Test Group 95% Confidence Interval: (np.float64(226.85877713642867), np.float64(245.1083196377649))\n"
     ]
    }
   ],
   "source": [
    "test_group_confidence_interval = st.norm.interval(0.95, loc=test_mean, scale=test_std/np.sqrt(sample_size))\n",
    "\n",
    "print(f\"Test Group 95% Confidence Interval: {test_group_confidence_interval}\")"
   ]
  },
  {
   "cell_type": "code",
   "execution_count": null,
   "id": "f97f6c49",
   "metadata": {},
   "outputs": [],
   "source": []
  }
 ],
 "metadata": {
  "kernelspec": {
   "display_name": "Python 3",
   "language": "python",
   "name": "python3"
  },
  "language_info": {
   "codemirror_mode": {
    "name": "ipython",
    "version": 3
   },
   "file_extension": ".py",
   "mimetype": "text/x-python",
   "name": "python",
   "nbconvert_exporter": "python",
   "pygments_lexer": "ipython3",
   "version": "3.12.8"
  }
 },
 "nbformat": 4,
 "nbformat_minor": 5
}
